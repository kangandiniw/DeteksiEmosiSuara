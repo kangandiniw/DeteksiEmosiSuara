{
 "cells": [
  {
   "cell_type": "markdown",
   "metadata": {},
   "source": [
    "## Import libraries"
   ]
  },
  {
   "cell_type": "code",
   "execution_count": 1,
   "metadata": {},
   "outputs": [
    {
     "data": {
      "text/plain": [
       "[]"
      ]
     },
     "execution_count": 1,
     "metadata": {},
     "output_type": "execute_result"
    }
   ],
   "source": [
    "import os\n",
    "import librosa\n",
    "import numpy as np\n",
    "from tqdm.notebook import tqdm\n",
    "import pandas as pd\n",
    "import matplotlib.pyplot as plt\n",
    "import warnings\n",
    "warnings.filterwarnings(\"ignore\")\n",
    "import seaborn as sns\n",
    "sns.set_style('whitegrid')\n",
    "import IPython.display as ipd\n",
    "import librosa.display\n",
    "import numpy as np\n",
    "import cv2\n",
    "import pickle\n",
    "\n",
    "from sklearn.model_selection import train_test_split\n",
    "from sklearn.ensemble import RandomForestClassifier\n",
    "from sklearn.preprocessing import StandardScaler, LabelEncoder\n",
    "from sklearn.pipeline import make_pipeline\n",
    "from sklearn.cluster import KMeans\n",
    "from sklearn.metrics import accuracy_score, confusion_matrix\n",
    "from scipy.cluster.hierarchy import dendrogram\n",
    "from sklearn.cluster import AgglomerativeClustering\n",
    "\n",
    "from tqdm.notebook import tqdm\n",
    "\n",
    "import tensorflow as tf\n",
    "from tensorflow.keras.layers import Dense, Dropout, Conv2D, AveragePooling1D, MaxPooling2D, Flatten\n",
    "from tensorflow.keras.optimizers import SGD\n",
    "from tensorflow.keras.models import Sequential\n",
    "from tensorflow.keras import layers\n",
    "\n",
    "# from livelossplot import PlotLossesKeras\n",
    "tf.config.list_physical_devices('GPU')"
   ]
  },
  {
   "cell_type": "markdown",
   "metadata": {},
   "source": [
    "## Get data from datasets:"
   ]
  },
  {
   "cell_type": "code",
   "execution_count": 2,
   "metadata": {},
   "outputs": [
    {
     "data": {
      "text/plain": [
       "['DC_a01.wav', 'DC_a02.wav', 'DC_a03.wav', 'DC_a04.wav', 'DC_a05.wav']"
      ]
     },
     "execution_count": 2,
     "metadata": {},
     "output_type": "execute_result"
    }
   ],
   "source": [
    "main_path = 'D://emotion_recognition_data'\n",
    "TESS = os.path.join(main_path, \"data3/\")\n",
    "RAV = os.path.join(main_path, \"data/\")\n",
    "SAVEE = os.path.join(main_path, \"data2/\")\n",
    "\n",
    "dir_list = os.listdir(SAVEE)\n",
    "dir_list[0:5]"
   ]
  },
  {
   "cell_type": "markdown",
   "metadata": {},
   "source": [
    "### RAVDESS dataset"
   ]
  },
  {
   "cell_type": "code",
   "execution_count": 3,
   "metadata": {},
   "outputs": [
    {
     "data": {
      "application/vnd.jupyter.widget-view+json": {
       "model_id": "ead0247c02294dc09f1b6d2220d31e12",
       "version_major": 2,
       "version_minor": 0
      },
      "text/plain": [
       "0it [00:00, ?it/s]"
      ]
     },
     "metadata": {},
     "output_type": "display_data"
    }
   ],
   "source": [
    "lst = []\n",
    "emotion = []\n",
    "voc_channel = []\n",
    "full_path = []\n",
    "modality = []\n",
    "intensity = []\n",
    "actors = []\n",
    "phrase =[]\n",
    "\n",
    "for root, dirs, files in tqdm(os.walk(RAV)):\n",
    "    for file in files:\n",
    "        try:\n",
    "            #Load librosa array, obtain mfcss, store the file and the mfcss information in a new array\n",
    "            # X, sample_rate = librosa.load(os.path.join(root,file), res_type='kaiser_fast')\n",
    "            # mfccs = np.mean(librosa.feature.mfcc(y=X, sr=sample_rate, n_mfcc=40).T,axis=0) \n",
    "            # The instruction below converts the labels (from 1 to 8) to a series from 0 to 7\n",
    "            # This is because our predictor needs to start from 0 otherwise it will try to predict also 0.\n",
    "           \n",
    "            modal = int(file[1:2])\n",
    "            vchan = int(file[4:5])\n",
    "            lab = int(file[7:8])\n",
    "            ints = int(file[10:11])\n",
    "            phr = int(file[13:14])\n",
    "            act = int(file[19:20])\n",
    "            \n",
    "            # arr = mfccs, lab\n",
    "            # lst.append(arr)\n",
    "            \n",
    "            modality.append(modal)\n",
    "            voc_channel.append(vchan)\n",
    "            emotion.append(lab) #only labels\n",
    "            intensity.append(ints)\n",
    "            phrase.append(phr)\n",
    "            actors.append(act)\n",
    "            \n",
    "            full_path.append((root, file)) # only files\n",
    "          # If the file is not valid, skip it\n",
    "        except ValueError:\n",
    "            continue"
   ]
  },
  {
   "cell_type": "code",
   "execution_count": 4,
   "metadata": {},
   "outputs": [],
   "source": [
    "# 01 = neutral, 02 = calm, 03 = happy, 04 = sad, 05 = angry, 06 = fearful, 07 = disgust, 08 = surprised\n",
    "emotions_list = ['neutral', 'calm', 'happy', 'sad', 'angry', 'fearful', 'disgust', 'surprised']\n",
    "emotion_dict = {em[0]+1:em[1] for em in enumerate(emotions_list)}\n",
    "\n",
    "df = pd.DataFrame([emotion, voc_channel, modality, intensity, actors, phrase, full_path]).T\n",
    "df.columns = ['emotion', 'voc_channel', 'modality', 'intensity', 'actors', 'phrase', 'path']\n",
    "df['emotion'] = df['emotion'].map(emotion_dict)\n",
    "df['voc_channel'] = df['voc_channel'].map({1: 'speech', 2:'song'})\n",
    "df['modality'] = df['modality'].map({1: 'full AV', 2:'video only', 3:'audio only'})\n",
    "df['intensity'] = df['intensity'].map({1: 'normal', 2:'strong'})\n",
    "df['actors'] = df['actors'].apply(lambda x: 'female' if x%2 == 0 else 'male')\n",
    "df['phrase'] = df['phrase'].map({1: 'Kids are talking by the door', 2:'Dogs are sitting by the door'})\n",
    "df['path'] = df['path'].apply(lambda x: x[0] + '/' + x[1])\n"
   ]
  },
  {
   "cell_type": "code",
   "execution_count": 5,
   "metadata": {},
   "outputs": [
    {
     "data": {
      "text/html": [
       "<div>\n",
       "<style scoped>\n",
       "    .dataframe tbody tr th:only-of-type {\n",
       "        vertical-align: middle;\n",
       "    }\n",
       "\n",
       "    .dataframe tbody tr th {\n",
       "        vertical-align: top;\n",
       "    }\n",
       "\n",
       "    .dataframe thead th {\n",
       "        text-align: right;\n",
       "    }\n",
       "</style>\n",
       "<table border=\"1\" class=\"dataframe\">\n",
       "  <thead>\n",
       "    <tr style=\"text-align: right;\">\n",
       "      <th></th>\n",
       "      <th>emotion</th>\n",
       "      <th>voc_channel</th>\n",
       "      <th>modality</th>\n",
       "      <th>intensity</th>\n",
       "      <th>actors</th>\n",
       "      <th>phrase</th>\n",
       "      <th>path</th>\n",
       "    </tr>\n",
       "  </thead>\n",
       "  <tbody>\n",
       "    <tr>\n",
       "      <th>0</th>\n",
       "      <td>neutral</td>\n",
       "      <td>speech</td>\n",
       "      <td>audio only</td>\n",
       "      <td>normal</td>\n",
       "      <td>male</td>\n",
       "      <td>Kids are talking by the door</td>\n",
       "      <td>D://emotion_recognition_data\\data/data\\Actor_0...</td>\n",
       "    </tr>\n",
       "    <tr>\n",
       "      <th>1</th>\n",
       "      <td>neutral</td>\n",
       "      <td>speech</td>\n",
       "      <td>audio only</td>\n",
       "      <td>normal</td>\n",
       "      <td>male</td>\n",
       "      <td>Kids are talking by the door</td>\n",
       "      <td>D://emotion_recognition_data\\data/data\\Actor_0...</td>\n",
       "    </tr>\n",
       "    <tr>\n",
       "      <th>2</th>\n",
       "      <td>neutral</td>\n",
       "      <td>speech</td>\n",
       "      <td>audio only</td>\n",
       "      <td>normal</td>\n",
       "      <td>male</td>\n",
       "      <td>Dogs are sitting by the door</td>\n",
       "      <td>D://emotion_recognition_data\\data/data\\Actor_0...</td>\n",
       "    </tr>\n",
       "    <tr>\n",
       "      <th>3</th>\n",
       "      <td>neutral</td>\n",
       "      <td>speech</td>\n",
       "      <td>audio only</td>\n",
       "      <td>normal</td>\n",
       "      <td>male</td>\n",
       "      <td>Dogs are sitting by the door</td>\n",
       "      <td>D://emotion_recognition_data\\data/data\\Actor_0...</td>\n",
       "    </tr>\n",
       "    <tr>\n",
       "      <th>4</th>\n",
       "      <td>calm</td>\n",
       "      <td>speech</td>\n",
       "      <td>audio only</td>\n",
       "      <td>normal</td>\n",
       "      <td>male</td>\n",
       "      <td>Kids are talking by the door</td>\n",
       "      <td>D://emotion_recognition_data\\data/data\\Actor_0...</td>\n",
       "    </tr>\n",
       "  </tbody>\n",
       "</table>\n",
       "</div>"
      ],
      "text/plain": [
       "   emotion voc_channel    modality intensity actors  \\\n",
       "0  neutral      speech  audio only    normal   male   \n",
       "1  neutral      speech  audio only    normal   male   \n",
       "2  neutral      speech  audio only    normal   male   \n",
       "3  neutral      speech  audio only    normal   male   \n",
       "4     calm      speech  audio only    normal   male   \n",
       "\n",
       "                         phrase  \\\n",
       "0  Kids are talking by the door   \n",
       "1  Kids are talking by the door   \n",
       "2  Dogs are sitting by the door   \n",
       "3  Dogs are sitting by the door   \n",
       "4  Kids are talking by the door   \n",
       "\n",
       "                                                path  \n",
       "0  D://emotion_recognition_data\\data/data\\Actor_0...  \n",
       "1  D://emotion_recognition_data\\data/data\\Actor_0...  \n",
       "2  D://emotion_recognition_data\\data/data\\Actor_0...  \n",
       "3  D://emotion_recognition_data\\data/data\\Actor_0...  \n",
       "4  D://emotion_recognition_data\\data/data\\Actor_0...  "
      ]
     },
     "execution_count": 5,
     "metadata": {},
     "output_type": "execute_result"
    }
   ],
   "source": [
    "df.head()"
   ]
  },
  {
   "cell_type": "markdown",
   "metadata": {},
   "source": [
    "### SAVEE"
   ]
  },
  {
   "cell_type": "code",
   "execution_count": 6,
   "metadata": {},
   "outputs": [
    {
     "data": {
      "text/plain": [
       "neutral_male     120\n",
       "happy_male        60\n",
       "disgust_male      60\n",
       "sad_male          60\n",
       "fear_male         60\n",
       "angry_male        60\n",
       "surprise_male     60\n",
       "Name: emotion_label, dtype: int64"
      ]
     },
     "execution_count": 6,
     "metadata": {},
     "output_type": "execute_result"
    }
   ],
   "source": [
    "# Get the data location for SAVEE\n",
    "dir_list = os.listdir(SAVEE)\n",
    "\n",
    "# parse the filename to get the emotions\n",
    "emotion=[]\n",
    "path = []\n",
    "for i in dir_list:\n",
    "    if i[-8:-6]=='_a':\n",
    "        emotion.append('angry_male')\n",
    "    elif i[-8:-6]=='_d':\n",
    "        emotion.append('disgust_male')\n",
    "    elif i[-8:-6]=='_f':\n",
    "        emotion.append('fear_male')\n",
    "    elif i[-8:-6]=='_h':\n",
    "        emotion.append('happy_male')\n",
    "    elif i[-8:-6]=='_n':\n",
    "        emotion.append('neutral_male')\n",
    "    elif i[-8:-6]=='sa':\n",
    "        emotion.append('sad_male')\n",
    "    elif i[-8:-6]=='su':\n",
    "        emotion.append('surprise_male')\n",
    "    else:\n",
    "        emotion.append('Unknown') \n",
    "    path.append(SAVEE + i)\n",
    "    \n",
    "# Now check out the label count distribution \n",
    "SAVEE_df = pd.DataFrame(emotion, columns = ['emotion_label'])\n",
    "SAVEE_df['source'] = 'SAVEE'\n",
    "SAVEE_df = pd.concat([SAVEE_df, pd.DataFrame(path, columns = ['path'])], axis = 1)\n",
    "SAVEE_df.emotion_label.value_counts()"
   ]
  },
  {
   "cell_type": "code",
   "execution_count": 7,
   "metadata": {},
   "outputs": [
    {
     "data": {
      "text/html": [
       "<div>\n",
       "<style scoped>\n",
       "    .dataframe tbody tr th:only-of-type {\n",
       "        vertical-align: middle;\n",
       "    }\n",
       "\n",
       "    .dataframe tbody tr th {\n",
       "        vertical-align: top;\n",
       "    }\n",
       "\n",
       "    .dataframe thead th {\n",
       "        text-align: right;\n",
       "    }\n",
       "</style>\n",
       "<table border=\"1\" class=\"dataframe\">\n",
       "  <thead>\n",
       "    <tr style=\"text-align: right;\">\n",
       "      <th></th>\n",
       "      <th>emotion_label</th>\n",
       "      <th>source</th>\n",
       "      <th>path</th>\n",
       "    </tr>\n",
       "  </thead>\n",
       "  <tbody>\n",
       "    <tr>\n",
       "      <th>0</th>\n",
       "      <td>angry_male</td>\n",
       "      <td>SAVEE</td>\n",
       "      <td>D://emotion_recognition_data\\data2/DC_a01.wav</td>\n",
       "    </tr>\n",
       "    <tr>\n",
       "      <th>1</th>\n",
       "      <td>angry_male</td>\n",
       "      <td>SAVEE</td>\n",
       "      <td>D://emotion_recognition_data\\data2/DC_a02.wav</td>\n",
       "    </tr>\n",
       "    <tr>\n",
       "      <th>2</th>\n",
       "      <td>angry_male</td>\n",
       "      <td>SAVEE</td>\n",
       "      <td>D://emotion_recognition_data\\data2/DC_a03.wav</td>\n",
       "    </tr>\n",
       "    <tr>\n",
       "      <th>3</th>\n",
       "      <td>angry_male</td>\n",
       "      <td>SAVEE</td>\n",
       "      <td>D://emotion_recognition_data\\data2/DC_a04.wav</td>\n",
       "    </tr>\n",
       "    <tr>\n",
       "      <th>4</th>\n",
       "      <td>angry_male</td>\n",
       "      <td>SAVEE</td>\n",
       "      <td>D://emotion_recognition_data\\data2/DC_a05.wav</td>\n",
       "    </tr>\n",
       "  </tbody>\n",
       "</table>\n",
       "</div>"
      ],
      "text/plain": [
       "  emotion_label source                                           path\n",
       "0    angry_male  SAVEE  D://emotion_recognition_data\\data2/DC_a01.wav\n",
       "1    angry_male  SAVEE  D://emotion_recognition_data\\data2/DC_a02.wav\n",
       "2    angry_male  SAVEE  D://emotion_recognition_data\\data2/DC_a03.wav\n",
       "3    angry_male  SAVEE  D://emotion_recognition_data\\data2/DC_a04.wav\n",
       "4    angry_male  SAVEE  D://emotion_recognition_data\\data2/DC_a05.wav"
      ]
     },
     "execution_count": 7,
     "metadata": {},
     "output_type": "execute_result"
    }
   ],
   "source": [
    "SAVEE_df.head()"
   ]
  },
  {
   "cell_type": "markdown",
   "metadata": {},
   "source": [
    "### TESS dataset"
   ]
  },
  {
   "cell_type": "code",
   "execution_count": 8,
   "metadata": {},
   "outputs": [
    {
     "data": {
      "text/plain": [
       "neutral_female     400\n",
       "fear_female        400\n",
       "sad_female         400\n",
       "disgust_female     400\n",
       "happy_female       400\n",
       "surprise_female    400\n",
       "angry_female       400\n",
       "Unknown             14\n",
       "Name: emotion_label, dtype: int64"
      ]
     },
     "execution_count": 8,
     "metadata": {},
     "output_type": "execute_result"
    }
   ],
   "source": [
    "dir_list = os.listdir(TESS)\n",
    "dir_list.sort()\n",
    "dir_list\n",
    "\n",
    "path = []\n",
    "emotion = []\n",
    "\n",
    "for i in dir_list:\n",
    "    fname = os.listdir(TESS + i)\n",
    "    for f in fname:\n",
    "        if i == 'OAF_angry' or i == 'YAF_angry':\n",
    "            emotion.append('angry_female')\n",
    "        elif i == 'OAF_disgust' or i == 'YAF_disgust':\n",
    "            emotion.append('disgust_female')\n",
    "        elif i == 'OAF_Fear' or i == 'YAF_fear':\n",
    "            emotion.append('fear_female')\n",
    "        elif i == 'OAF_happy' or i == 'YAF_happy':\n",
    "            emotion.append('happy_female')\n",
    "        elif i == 'OAF_neutral' or i == 'YAF_neutral':\n",
    "            emotion.append('neutral_female')                                \n",
    "        elif i == 'OAF_Pleasant_surprise' or i == 'YAF_pleasant_surprised':\n",
    "            emotion.append('surprise_female')               \n",
    "        elif i == 'OAF_Sad' or i == 'YAF_sad':\n",
    "            emotion.append('sad_female')\n",
    "        else:\n",
    "            emotion.append('Unknown')\n",
    "        path.append(TESS + i + \"/\" + f)\n",
    "\n",
    "TESS_df = pd.DataFrame(emotion, columns = ['emotion_label'])\n",
    "TESS_df['source'] = 'TESS'\n",
    "TESS_df = pd.concat([TESS_df,pd.DataFrame(path, columns = ['path'])],axis=1)\n",
    "TESS_df.emotion_label.value_counts()"
   ]
  },
  {
   "cell_type": "code",
   "execution_count": 9,
   "metadata": {},
   "outputs": [
    {
     "data": {
      "text/html": [
       "<div>\n",
       "<style scoped>\n",
       "    .dataframe tbody tr th:only-of-type {\n",
       "        vertical-align: middle;\n",
       "    }\n",
       "\n",
       "    .dataframe tbody tr th {\n",
       "        vertical-align: top;\n",
       "    }\n",
       "\n",
       "    .dataframe thead th {\n",
       "        text-align: right;\n",
       "    }\n",
       "</style>\n",
       "<table border=\"1\" class=\"dataframe\">\n",
       "  <thead>\n",
       "    <tr style=\"text-align: right;\">\n",
       "      <th></th>\n",
       "      <th>emotion_label</th>\n",
       "      <th>source</th>\n",
       "      <th>path</th>\n",
       "    </tr>\n",
       "  </thead>\n",
       "  <tbody>\n",
       "    <tr>\n",
       "      <th>0</th>\n",
       "      <td>fear_female</td>\n",
       "      <td>TESS</td>\n",
       "      <td>D://emotion_recognition_data\\data3/OAF_Fear/OA...</td>\n",
       "    </tr>\n",
       "    <tr>\n",
       "      <th>1</th>\n",
       "      <td>fear_female</td>\n",
       "      <td>TESS</td>\n",
       "      <td>D://emotion_recognition_data\\data3/OAF_Fear/OA...</td>\n",
       "    </tr>\n",
       "    <tr>\n",
       "      <th>2</th>\n",
       "      <td>fear_female</td>\n",
       "      <td>TESS</td>\n",
       "      <td>D://emotion_recognition_data\\data3/OAF_Fear/OA...</td>\n",
       "    </tr>\n",
       "    <tr>\n",
       "      <th>3</th>\n",
       "      <td>fear_female</td>\n",
       "      <td>TESS</td>\n",
       "      <td>D://emotion_recognition_data\\data3/OAF_Fear/OA...</td>\n",
       "    </tr>\n",
       "    <tr>\n",
       "      <th>4</th>\n",
       "      <td>fear_female</td>\n",
       "      <td>TESS</td>\n",
       "      <td>D://emotion_recognition_data\\data3/OAF_Fear/OA...</td>\n",
       "    </tr>\n",
       "  </tbody>\n",
       "</table>\n",
       "</div>"
      ],
      "text/plain": [
       "  emotion_label source                                               path\n",
       "0   fear_female   TESS  D://emotion_recognition_data\\data3/OAF_Fear/OA...\n",
       "1   fear_female   TESS  D://emotion_recognition_data\\data3/OAF_Fear/OA...\n",
       "2   fear_female   TESS  D://emotion_recognition_data\\data3/OAF_Fear/OA...\n",
       "3   fear_female   TESS  D://emotion_recognition_data\\data3/OAF_Fear/OA...\n",
       "4   fear_female   TESS  D://emotion_recognition_data\\data3/OAF_Fear/OA..."
      ]
     },
     "execution_count": 9,
     "metadata": {},
     "output_type": "execute_result"
    }
   ],
   "source": [
    "TESS_df.head()"
   ]
  },
  {
   "cell_type": "markdown",
   "metadata": {},
   "source": [
    "### Combining the datasets:"
   ]
  },
  {
   "cell_type": "code",
   "execution_count": 10,
   "metadata": {},
   "outputs": [
    {
     "data": {
      "text/html": [
       "<div>\n",
       "<style scoped>\n",
       "    .dataframe tbody tr th:only-of-type {\n",
       "        vertical-align: middle;\n",
       "    }\n",
       "\n",
       "    .dataframe tbody tr th {\n",
       "        vertical-align: top;\n",
       "    }\n",
       "\n",
       "    .dataframe thead th {\n",
       "        text-align: right;\n",
       "    }\n",
       "</style>\n",
       "<table border=\"1\" class=\"dataframe\">\n",
       "  <thead>\n",
       "    <tr style=\"text-align: right;\">\n",
       "      <th></th>\n",
       "      <th>emotion_label</th>\n",
       "      <th>source</th>\n",
       "      <th>actors</th>\n",
       "      <th>path</th>\n",
       "    </tr>\n",
       "  </thead>\n",
       "  <tbody>\n",
       "    <tr>\n",
       "      <th>0</th>\n",
       "      <td>neutral_male</td>\n",
       "      <td>RAV</td>\n",
       "      <td>male</td>\n",
       "      <td>D://emotion_recognition_data\\data/data\\Actor_0...</td>\n",
       "    </tr>\n",
       "    <tr>\n",
       "      <th>1</th>\n",
       "      <td>neutral_male</td>\n",
       "      <td>RAV</td>\n",
       "      <td>male</td>\n",
       "      <td>D://emotion_recognition_data\\data/data\\Actor_0...</td>\n",
       "    </tr>\n",
       "    <tr>\n",
       "      <th>2</th>\n",
       "      <td>neutral_male</td>\n",
       "      <td>RAV</td>\n",
       "      <td>male</td>\n",
       "      <td>D://emotion_recognition_data\\data/data\\Actor_0...</td>\n",
       "    </tr>\n",
       "    <tr>\n",
       "      <th>3</th>\n",
       "      <td>neutral_male</td>\n",
       "      <td>RAV</td>\n",
       "      <td>male</td>\n",
       "      <td>D://emotion_recognition_data\\data/data\\Actor_0...</td>\n",
       "    </tr>\n",
       "    <tr>\n",
       "      <th>4</th>\n",
       "      <td>calm_male</td>\n",
       "      <td>RAV</td>\n",
       "      <td>male</td>\n",
       "      <td>D://emotion_recognition_data\\data/data\\Actor_0...</td>\n",
       "    </tr>\n",
       "  </tbody>\n",
       "</table>\n",
       "</div>"
      ],
      "text/plain": [
       "  emotion_label source actors  \\\n",
       "0  neutral_male    RAV   male   \n",
       "1  neutral_male    RAV   male   \n",
       "2  neutral_male    RAV   male   \n",
       "3  neutral_male    RAV   male   \n",
       "4     calm_male    RAV   male   \n",
       "\n",
       "                                                path  \n",
       "0  D://emotion_recognition_data\\data/data\\Actor_0...  \n",
       "1  D://emotion_recognition_data\\data/data\\Actor_0...  \n",
       "2  D://emotion_recognition_data\\data/data\\Actor_0...  \n",
       "3  D://emotion_recognition_data\\data/data\\Actor_0...  \n",
       "4  D://emotion_recognition_data\\data/data\\Actor_0...  "
      ]
     },
     "execution_count": 10,
     "metadata": {},
     "output_type": "execute_result"
    }
   ],
   "source": [
    "RAV_df = df.copy()\n",
    "\n",
    "# only speech\n",
    "RAV_df = RAV_df.loc[RAV_df.voc_channel == 'speech']\n",
    "\n",
    "RAV_df.insert(0, \"emotion_label\", RAV_df.emotion+'_'+RAV_df.actors, True)\n",
    "RAV_df.insert(1, \"source\", \"RAV\", True)\n",
    "RAV_df = RAV_df.drop(['emotion', 'voc_channel', 'modality', 'intensity', 'phrase'], 1)\n",
    "RAV_df.head()"
   ]
  },
  {
   "cell_type": "code",
   "execution_count": 11,
   "metadata": {},
   "outputs": [],
   "source": [
    "TESS_df.insert(2, \"actors\", \"female\", True)\n",
    "SAVEE_df.insert(2, \"actors\", \"male\", True)"
   ]
  },
  {
   "cell_type": "code",
   "execution_count": 43,
   "metadata": {},
   "outputs": [
    {
     "data": {
      "text/plain": [
       "array(['angry_male', 'disgust_male', 'fear_male', 'happy_male',\n",
       "       'neutral_male', 'sad_male', 'surprise_male'], dtype=object)"
      ]
     },
     "execution_count": 43,
     "metadata": {},
     "output_type": "execute_result"
    }
   ],
   "source": [
    "SAVEE_df['emotion_label'].unique()"
   ]
  },
  {
   "cell_type": "code",
   "execution_count": 12,
   "metadata": {},
   "outputs": [
    {
     "name": "stdout",
     "output_type": "stream",
     "text": [
      "<class 'pandas.core.frame.DataFrame'>\n",
      "Int64Index: 4734 entries, 0 to 479\n",
      "Data columns (total 4 columns):\n",
      " #   Column         Non-Null Count  Dtype \n",
      "---  ------         --------------  ----- \n",
      " 0   emotion_label  4734 non-null   object\n",
      " 1   source         4734 non-null   object\n",
      " 2   actors         4734 non-null   object\n",
      " 3   path           4734 non-null   object\n",
      "dtypes: object(4)\n",
      "memory usage: 184.9+ KB\n"
     ]
    }
   ],
   "source": [
    "df_combined = pd.concat([TESS_df, RAV_df, SAVEE_df])\n",
    "df_combined.info()"
   ]
  },
  {
   "cell_type": "code",
   "execution_count": 13,
   "metadata": {},
   "outputs": [
    {
     "name": "stdout",
     "output_type": "stream",
     "text": [
      "\n",
      "Column values for  EMOTION_LABEL\n",
      "sad_female          496\n",
      "disgust_female      496\n",
      "happy_female        496\n",
      "angry_female        496\n",
      "neutral_female      448\n",
      "surprise_female     400\n",
      "fear_female         400\n",
      "neutral_male        168\n",
      "angry_male          156\n",
      "sad_male            156\n",
      "disgust_male        156\n",
      "happy_male          156\n",
      "surprised_male       96\n",
      "surprised_female     96\n",
      "calm_female          96\n",
      "fearful_male         96\n",
      "fearful_female       96\n",
      "calm_male            96\n",
      "fear_male            60\n",
      "surprise_male        60\n",
      "Unknown              14\n",
      "Name: emotion_label, dtype: int64\n",
      "\n",
      "Column values for  SOURCE\n",
      "TESS     2814\n",
      "RAV      1440\n",
      "SAVEE     480\n",
      "Name: source, dtype: int64\n",
      "\n",
      "Column values for  ACTORS\n",
      "female    3534\n",
      "male      1200\n",
      "Name: actors, dtype: int64\n"
     ]
    }
   ],
   "source": [
    "for col in ['emotion_label', 'source', 'actors']:\n",
    "    print('\\nColumn values for ', col.upper())\n",
    "    print(df_combined[col].value_counts())"
   ]
  },
  {
   "cell_type": "code",
   "execution_count": 14,
   "metadata": {},
   "outputs": [
    {
     "data": {
      "text/html": [
       "<div>\n",
       "<style scoped>\n",
       "    .dataframe tbody tr th:only-of-type {\n",
       "        vertical-align: middle;\n",
       "    }\n",
       "\n",
       "    .dataframe tbody tr th {\n",
       "        vertical-align: top;\n",
       "    }\n",
       "\n",
       "    .dataframe thead th {\n",
       "        text-align: right;\n",
       "    }\n",
       "</style>\n",
       "<table border=\"1\" class=\"dataframe\">\n",
       "  <thead>\n",
       "    <tr style=\"text-align: right;\">\n",
       "      <th></th>\n",
       "      <th>emotion_label</th>\n",
       "      <th>source</th>\n",
       "      <th>actors</th>\n",
       "      <th>path</th>\n",
       "      <th>emotion2</th>\n",
       "    </tr>\n",
       "  </thead>\n",
       "  <tbody>\n",
       "    <tr>\n",
       "      <th>0</th>\n",
       "      <td>fear_female</td>\n",
       "      <td>TESS</td>\n",
       "      <td>female</td>\n",
       "      <td>D://emotion_recognition_data\\data3/OAF_Fear/OA...</td>\n",
       "      <td>negative_female</td>\n",
       "    </tr>\n",
       "    <tr>\n",
       "      <th>1</th>\n",
       "      <td>fear_female</td>\n",
       "      <td>TESS</td>\n",
       "      <td>female</td>\n",
       "      <td>D://emotion_recognition_data\\data3/OAF_Fear/OA...</td>\n",
       "      <td>negative_female</td>\n",
       "    </tr>\n",
       "    <tr>\n",
       "      <th>2</th>\n",
       "      <td>fear_female</td>\n",
       "      <td>TESS</td>\n",
       "      <td>female</td>\n",
       "      <td>D://emotion_recognition_data\\data3/OAF_Fear/OA...</td>\n",
       "      <td>negative_female</td>\n",
       "    </tr>\n",
       "    <tr>\n",
       "      <th>3</th>\n",
       "      <td>fear_female</td>\n",
       "      <td>TESS</td>\n",
       "      <td>female</td>\n",
       "      <td>D://emotion_recognition_data\\data3/OAF_Fear/OA...</td>\n",
       "      <td>negative_female</td>\n",
       "    </tr>\n",
       "    <tr>\n",
       "      <th>4</th>\n",
       "      <td>fear_female</td>\n",
       "      <td>TESS</td>\n",
       "      <td>female</td>\n",
       "      <td>D://emotion_recognition_data\\data3/OAF_Fear/OA...</td>\n",
       "      <td>negative_female</td>\n",
       "    </tr>\n",
       "  </tbody>\n",
       "</table>\n",
       "</div>"
      ],
      "text/plain": [
       "  emotion_label source  actors  \\\n",
       "0   fear_female   TESS  female   \n",
       "1   fear_female   TESS  female   \n",
       "2   fear_female   TESS  female   \n",
       "3   fear_female   TESS  female   \n",
       "4   fear_female   TESS  female   \n",
       "\n",
       "                                                path         emotion2  \n",
       "0  D://emotion_recognition_data\\data3/OAF_Fear/OA...  negative_female  \n",
       "1  D://emotion_recognition_data\\data3/OAF_Fear/OA...  negative_female  \n",
       "2  D://emotion_recognition_data\\data3/OAF_Fear/OA...  negative_female  \n",
       "3  D://emotion_recognition_data\\data3/OAF_Fear/OA...  negative_female  \n",
       "4  D://emotion_recognition_data\\data3/OAF_Fear/OA...  negative_female  "
      ]
     },
     "execution_count": 14,
     "metadata": {},
     "output_type": "execute_result"
    }
   ],
   "source": [
    "new_labels_dict_comb = {'angry_male':'negative_male', 'angry_female':'negative_female', \n",
    "                        'calm_male':'neutral_male', 'calm_female':'neutral_female',\n",
    "                        'disgust_male':'negative_male', 'disgust_female':'negative_female', \n",
    "                        'fearful_male':'negative_male','fearful_female':'negative_female',\n",
    "                        'fear_male':'negative_male', 'fear_female':'negative_female',\n",
    "                        'happy_male':'positive_male', 'happy_female':'positive_female',\n",
    "                        'neutral_male':'neutral_male', 'neutral_female':'neutral_female',\n",
    "                        'sad_male':'negative_male', 'sad_female':'negative_female',\n",
    "                        'surprised_male':'positive_male', 'surprised_female':'positive_female',\n",
    "                        'surprise_male':'positive_male', 'surprise_female':'positive_female',\n",
    "                        'Unknown': 'unk'}\n",
    "\n",
    "df_combined['emotion2'] = df_combined['emotion_label'].map(new_labels_dict_comb)\n",
    "df_combined.head()"
   ]
  },
  {
   "cell_type": "code",
   "execution_count": 15,
   "metadata": {},
   "outputs": [
    {
     "data": {
      "text/html": [
       "<div>\n",
       "<style scoped>\n",
       "    .dataframe tbody tr th:only-of-type {\n",
       "        vertical-align: middle;\n",
       "    }\n",
       "\n",
       "    .dataframe tbody tr th {\n",
       "        vertical-align: top;\n",
       "    }\n",
       "\n",
       "    .dataframe thead th {\n",
       "        text-align: right;\n",
       "    }\n",
       "</style>\n",
       "<table border=\"1\" class=\"dataframe\">\n",
       "  <thead>\n",
       "    <tr style=\"text-align: right;\">\n",
       "      <th></th>\n",
       "      <th>emotion_label</th>\n",
       "      <th>source</th>\n",
       "      <th>actors</th>\n",
       "      <th>path</th>\n",
       "      <th>emotion2</th>\n",
       "      <th>emotion3</th>\n",
       "    </tr>\n",
       "  </thead>\n",
       "  <tbody>\n",
       "    <tr>\n",
       "      <th>0</th>\n",
       "      <td>fear_female</td>\n",
       "      <td>TESS</td>\n",
       "      <td>female</td>\n",
       "      <td>D://emotion_recognition_data\\data3/OAF_Fear/OA...</td>\n",
       "      <td>negative_female</td>\n",
       "      <td>fear</td>\n",
       "    </tr>\n",
       "    <tr>\n",
       "      <th>1</th>\n",
       "      <td>fear_female</td>\n",
       "      <td>TESS</td>\n",
       "      <td>female</td>\n",
       "      <td>D://emotion_recognition_data\\data3/OAF_Fear/OA...</td>\n",
       "      <td>negative_female</td>\n",
       "      <td>fear</td>\n",
       "    </tr>\n",
       "    <tr>\n",
       "      <th>2</th>\n",
       "      <td>fear_female</td>\n",
       "      <td>TESS</td>\n",
       "      <td>female</td>\n",
       "      <td>D://emotion_recognition_data\\data3/OAF_Fear/OA...</td>\n",
       "      <td>negative_female</td>\n",
       "      <td>fear</td>\n",
       "    </tr>\n",
       "    <tr>\n",
       "      <th>3</th>\n",
       "      <td>fear_female</td>\n",
       "      <td>TESS</td>\n",
       "      <td>female</td>\n",
       "      <td>D://emotion_recognition_data\\data3/OAF_Fear/OA...</td>\n",
       "      <td>negative_female</td>\n",
       "      <td>fear</td>\n",
       "    </tr>\n",
       "    <tr>\n",
       "      <th>4</th>\n",
       "      <td>fear_female</td>\n",
       "      <td>TESS</td>\n",
       "      <td>female</td>\n",
       "      <td>D://emotion_recognition_data\\data3/OAF_Fear/OA...</td>\n",
       "      <td>negative_female</td>\n",
       "      <td>fear</td>\n",
       "    </tr>\n",
       "  </tbody>\n",
       "</table>\n",
       "</div>"
      ],
      "text/plain": [
       "  emotion_label source  actors  \\\n",
       "0   fear_female   TESS  female   \n",
       "1   fear_female   TESS  female   \n",
       "2   fear_female   TESS  female   \n",
       "3   fear_female   TESS  female   \n",
       "4   fear_female   TESS  female   \n",
       "\n",
       "                                                path         emotion2 emotion3  \n",
       "0  D://emotion_recognition_data\\data3/OAF_Fear/OA...  negative_female     fear  \n",
       "1  D://emotion_recognition_data\\data3/OAF_Fear/OA...  negative_female     fear  \n",
       "2  D://emotion_recognition_data\\data3/OAF_Fear/OA...  negative_female     fear  \n",
       "3  D://emotion_recognition_data\\data3/OAF_Fear/OA...  negative_female     fear  \n",
       "4  D://emotion_recognition_data\\data3/OAF_Fear/OA...  negative_female     fear  "
      ]
     },
     "execution_count": 15,
     "metadata": {},
     "output_type": "execute_result"
    }
   ],
   "source": [
    "addit_labels_dict_comb = {'angry_male':'angry', 'angry_female':'angry', \n",
    "                        'calm_male':'neutral', 'calm_female':'neutral',\n",
    "                        'disgust_male':'negative', 'disgust_female':'negative', \n",
    "                        'fearful_male':'fear','fearful_female':'fear',\n",
    "                        'fear_male':'fear', 'fear_female':'fear',\n",
    "                        'happy_male':'positive', 'happy_female':'positive',\n",
    "                        'neutral_male':'neutral', 'neutral_female':'neutral',\n",
    "                        'sad_male':'sadness', 'sad_female':'sadness',\n",
    "                        'surprised_male':'surprise', 'surprised_female':'surprise',\n",
    "                        'surprise_male':'surprise', 'surprise_female':'surprise',\n",
    "                        'Unknown': 'unk'}\n",
    "\n",
    "df_combined['emotion3'] = df_combined['emotion_label'].map(addit_labels_dict_comb)\n",
    "df_combined.head()"
   ]
  },
  {
   "cell_type": "code",
   "execution_count": 17,
   "metadata": {},
   "outputs": [
    {
     "data": {
      "text/plain": [
       "negative_female    1984\n",
       "positive_female     992\n",
       "negative_male       624\n",
       "neutral_female      544\n",
       "positive_male       312\n",
       "neutral_male        264\n",
       "unk                  14\n",
       "Name: emotion2, dtype: int64"
      ]
     },
     "execution_count": 17,
     "metadata": {},
     "output_type": "execute_result"
    }
   ],
   "source": [
    "df_combined.emotion2.value_counts()"
   ]
  },
  {
   "cell_type": "code",
   "execution_count": 18,
   "metadata": {},
   "outputs": [
    {
     "data": {
      "text/plain": [
       "neutral     808\n",
       "surprise    652\n",
       "angry       652\n",
       "positive    652\n",
       "fear        652\n",
       "negative    652\n",
       "sadness     652\n",
       "unk          14\n",
       "Name: emotion3, dtype: int64"
      ]
     },
     "execution_count": 18,
     "metadata": {},
     "output_type": "execute_result"
    }
   ],
   "source": [
    "df_combined.emotion3.value_counts()"
   ]
  },
  {
   "cell_type": "code",
   "execution_count": 19,
   "metadata": {},
   "outputs": [],
   "source": [
    "df_combined = df_combined.loc[df_combined['emotion2'] != 'unk']"
   ]
  },
  {
   "cell_type": "markdown",
   "metadata": {},
   "source": [
    "### Save the data:"
   ]
  },
  {
   "cell_type": "code",
   "execution_count": 23,
   "metadata": {},
   "outputs": [],
   "source": [
    "df_combined.to_csv(os.path.join(main_path,\"combined.csv\"), index=False)"
   ]
  },
  {
   "cell_type": "markdown",
   "metadata": {},
   "source": [
    "### (Using the combined DF, MFCC's and column 'emotion2' as target)"
   ]
  },
  {
   "cell_type": "code",
   "execution_count": 25,
   "metadata": {},
   "outputs": [],
   "source": [
    "import pickle\n",
    "\n",
    "df_path = 'D://emotion_recognition_data//combined.csv'\n",
    "# mfccs_path = 'd://itc//final_project//mfccs.pickle'\n",
    "# new_y_path = 'd://itc//final_project//y.pickle'\n",
    "\n",
    "# with open('d://downloads//y.pickle', 'wb') as f:\n",
    "#     pickle.dump(new_y, f)\n",
    "    \n",
    "# with open('d://downloads//mfccs.pickle', 'wb') as f:\n",
    "#     pickle.dump(mfccs, f)\n",
    "\n",
    "mydf = pd.read_csv(df_path)\n",
    "\n",
    "# with open(mfccs_path, 'rb') as f:\n",
    "#     mfccs = pickle.load(f)\n",
    "\n",
    "# with open(new_y_path, 'rb') as f:\n",
    "#     new_y = pickle.load(f)"
   ]
  },
  {
   "cell_type": "markdown",
   "metadata": {},
   "source": [
    "### EDA"
   ]
  },
  {
   "cell_type": "code",
   "execution_count": 275,
   "metadata": {},
   "outputs": [
    {
     "data": {
      "text/html": [
       "<div>\n",
       "<style scoped>\n",
       "    .dataframe tbody tr th:only-of-type {\n",
       "        vertical-align: middle;\n",
       "    }\n",
       "\n",
       "    .dataframe tbody tr th {\n",
       "        vertical-align: top;\n",
       "    }\n",
       "\n",
       "    .dataframe thead th {\n",
       "        text-align: right;\n",
       "    }\n",
       "</style>\n",
       "<table border=\"1\" class=\"dataframe\">\n",
       "  <thead>\n",
       "    <tr style=\"text-align: right;\">\n",
       "      <th></th>\n",
       "      <th>source</th>\n",
       "      <th>actors</th>\n",
       "      <th>path</th>\n",
       "      <th>emotion2</th>\n",
       "      <th>emotion3</th>\n",
       "    </tr>\n",
       "  </thead>\n",
       "  <tbody>\n",
       "    <tr>\n",
       "      <th>0</th>\n",
       "      <td>TESS</td>\n",
       "      <td>female</td>\n",
       "      <td>D://emotion_recognition_data\\data3/OAF_Fear/OA...</td>\n",
       "      <td>negative_female</td>\n",
       "      <td>fear</td>\n",
       "    </tr>\n",
       "    <tr>\n",
       "      <th>1</th>\n",
       "      <td>TESS</td>\n",
       "      <td>female</td>\n",
       "      <td>D://emotion_recognition_data\\data3/OAF_Fear/OA...</td>\n",
       "      <td>negative_female</td>\n",
       "      <td>fear</td>\n",
       "    </tr>\n",
       "    <tr>\n",
       "      <th>2</th>\n",
       "      <td>TESS</td>\n",
       "      <td>female</td>\n",
       "      <td>D://emotion_recognition_data\\data3/OAF_Fear/OA...</td>\n",
       "      <td>negative_female</td>\n",
       "      <td>fear</td>\n",
       "    </tr>\n",
       "    <tr>\n",
       "      <th>3</th>\n",
       "      <td>TESS</td>\n",
       "      <td>female</td>\n",
       "      <td>D://emotion_recognition_data\\data3/OAF_Fear/OA...</td>\n",
       "      <td>negative_female</td>\n",
       "      <td>fear</td>\n",
       "    </tr>\n",
       "    <tr>\n",
       "      <th>4</th>\n",
       "      <td>TESS</td>\n",
       "      <td>female</td>\n",
       "      <td>D://emotion_recognition_data\\data3/OAF_Fear/OA...</td>\n",
       "      <td>negative_female</td>\n",
       "      <td>fear</td>\n",
       "    </tr>\n",
       "  </tbody>\n",
       "</table>\n",
       "</div>"
      ],
      "text/plain": [
       "  source  actors                                               path  \\\n",
       "0   TESS  female  D://emotion_recognition_data\\data3/OAF_Fear/OA...   \n",
       "1   TESS  female  D://emotion_recognition_data\\data3/OAF_Fear/OA...   \n",
       "2   TESS  female  D://emotion_recognition_data\\data3/OAF_Fear/OA...   \n",
       "3   TESS  female  D://emotion_recognition_data\\data3/OAF_Fear/OA...   \n",
       "4   TESS  female  D://emotion_recognition_data\\data3/OAF_Fear/OA...   \n",
       "\n",
       "          emotion2 emotion3  \n",
       "0  negative_female     fear  \n",
       "1  negative_female     fear  \n",
       "2  negative_female     fear  \n",
       "3  negative_female     fear  \n",
       "4  negative_female     fear  "
      ]
     },
     "execution_count": 275,
     "metadata": {},
     "output_type": "execute_result"
    }
   ],
   "source": [
    "mydf.head()"
   ]
  },
  {
   "cell_type": "code",
   "execution_count": 276,
   "metadata": {},
   "outputs": [
    {
     "name": "stdout",
     "output_type": "stream",
     "text": [
      "<class 'pandas.core.frame.DataFrame'>\n",
      "RangeIndex: 4720 entries, 0 to 4719\n",
      "Data columns (total 5 columns):\n",
      " #   Column    Non-Null Count  Dtype \n",
      "---  ------    --------------  ----- \n",
      " 0   source    4720 non-null   object\n",
      " 1   actors    4720 non-null   object\n",
      " 2   path      4720 non-null   object\n",
      " 3   emotion2  4720 non-null   object\n",
      " 4   emotion3  4720 non-null   object\n",
      "dtypes: object(5)\n",
      "memory usage: 184.5+ KB\n"
     ]
    }
   ],
   "source": [
    "mydf.info()"
   ]
  },
  {
   "cell_type": "code",
   "execution_count": 283,
   "metadata": {},
   "outputs": [
    {
     "data": {
      "image/png": "[encoded data removed]",
      "text/plain": [
       "<Figure size 432x288 with 1 Axes>"
      ]
     },
     "metadata": {},
     "output_type": "display_data"
    }
   ],
   "source": [
    "ind = np.random.randint(0,len(mydf))\n",
    "data, sampling_rate = librosa.load(mydf['path'][ind], sr=44100)\n",
    "emotion = mydf['emotion2'][ind]\n",
    "\n",
    "plt.title(f'Sound wave of- {emotion}')\n",
    "librosa.display.waveplot(data, sampling_rate)\n",
    "plt.show()"
   ]
  },
  {
   "cell_type": "markdown",
   "metadata": {},
   "source": [
    "#### Linear-scale spectrum"
   ]
  },
  {
   "cell_type": "code",
   "execution_count": 284,
   "metadata": {},
   "outputs": [
    {
     "data": {
      "image/png": "[encoded data removed]",
      "text/plain": [
       "<Figure size 432x288 with 2 Axes>"
      ]
     },
     "metadata": {},
     "output_type": "display_data"
    }
   ],
   "source": [
    "D = np.abs(librosa.stft(data))\n",
    "librosa.display.specshow(D, sr=sampling_rate, x_axis='time', y_axis='linear');\n",
    "plt.colorbar()\n",
    "plt.show()"
   ]
  },
  {
   "cell_type": "markdown",
   "metadata": {},
   "source": [
    "#### Log-scale Spectrogram"
   ]
  },
  {
   "cell_type": "code",
   "execution_count": 285,
   "metadata": {},
   "outputs": [
    {
     "data": {
      "image/png": "[encoded data removed]",
      "text/plain": [
       "<Figure size 432x288 with 2 Axes>"
      ]
     },
     "metadata": {},
     "output_type": "display_data"
    }
   ],
   "source": [
    "DB = librosa.amplitude_to_db(D, ref=np.max)\n",
    "librosa.display.specshow(DB, sr=sampling_rate, x_axis='time', y_axis='log');\n",
    "plt.colorbar(format='%+2.0f db')\n",
    "plt.show()"
   ]
  },
  {
   "cell_type": "markdown",
   "metadata": {},
   "source": [
    "#### Log-scale spectrum"
   ]
  },
  {
   "cell_type": "code",
   "execution_count": 317,
   "metadata": {},
   "outputs": [
    {
     "data": {
      "image/png": "[encoded data removed]",
      "text/plain": [
       "<Figure size 432x288 with 1 Axes>"
      ]
     },
     "metadata": {},
     "output_type": "display_data"
    }
   ],
   "source": [
    "a = plt.magnitude_spectrum(data, scale='dB')\n",
    "plt.show()"
   ]
  },
  {
   "cell_type": "code",
   "execution_count": 337,
   "metadata": {},
   "outputs": [],
   "source": [
    "a1 = np.log(a[0])\n",
    "a2 = a[1]"
   ]
  },
  {
   "cell_type": "code",
   "execution_count": 340,
   "metadata": {},
   "outputs": [
    {
     "data": {
      "image/png": "[encoded data removed]",
      "text/plain": [
       "<Figure size 432x288 with 1 Axes>"
      ]
     },
     "metadata": {},
     "output_type": "display_data"
    }
   ],
   "source": [
    "plt.plot(a2,a1)\n",
    "plt.show()"
   ]
  },
  {
   "cell_type": "code",
   "execution_count": 341,
   "metadata": {},
   "outputs": [],
   "source": [
    "def hl_envelopes_idx(s, dmin=1, dmax=1, split=False):\n",
    "    \"\"\"\n",
    "    Input :\n",
    "    s: 1d-array, data signal from which to extract high and low envelopes\n",
    "    dmin, dmax: int, optional, size of chunks, use this if the size of the input signal is too big\n",
    "    split: bool, optional, if True, split the signal in half along its mean, might help to generate the envelope in some cases\n",
    "    Output :\n",
    "    lmin,lmax : high/low envelope idx of input signal s\n",
    "    \"\"\"\n",
    "\n",
    "    # locals min      \n",
    "    lmin = (np.diff(np.sign(np.diff(s))) > 0).nonzero()[0] + 1 \n",
    "    # locals max\n",
    "    lmax = (np.diff(np.sign(np.diff(s))) < 0).nonzero()[0] + 1 \n",
    "    \n",
    "\n",
    "    if split:\n",
    "        # s_mid is zero if s centered around x-axis or more generally mean of signal\n",
    "        s_mid = np.mean(s) \n",
    "        # pre-sorting of locals min based on relative position with respect to s_mid \n",
    "        lmin = lmin[s[lmin]<s_mid]\n",
    "        # pre-sorting of local max based on relative position with respect to s_mid \n",
    "        lmax = lmax[s[lmax]>s_mid]\n",
    "\n",
    "\n",
    "    # global max of dmax-chunks of locals max \n",
    "    lmin = lmin[[i+np.argmin(s[lmin[i:i+dmin]]) for i in range(0,len(lmin),dmin)]]\n",
    "    # global min of dmin-chunks of locals min \n",
    "    lmax = lmax[[i+np.argmax(s[lmax[i:i+dmax]]) for i in range(0,len(lmax),dmax)]]\n",
    "    \n",
    "    return lmin,lmax"
   ]
  },
  {
   "cell_type": "code",
   "execution_count": 344,
   "metadata": {},
   "outputs": [
    {
     "data": {
      "text/plain": [
       "(163334,)"
      ]
     },
     "execution_count": 344,
     "metadata": {},
     "output_type": "execute_result"
    }
   ],
   "source": [
    "data.shape"
   ]
  },
  {
   "cell_type": "code",
   "execution_count": 359,
   "metadata": {},
   "outputs": [
    {
     "data": {
      "image/png": "[encoded data removed]",
      "text/plain": [
       "<Figure size 432x288 with 1 Axes>"
      ]
     },
     "metadata": {},
     "output_type": "display_data"
    }
   ],
   "source": [
    "high_idx, _ = hl_envelopes_idx(data[:len(a1)], dmin=250)\n",
    "\n",
    "# plot\n",
    "plt.plot(a2[high_idx], a1[high_idx], 'b', label='low')\n",
    "plt.show()"
   ]
  },
  {
   "cell_type": "markdown",
   "metadata": {},
   "source": [
    "### Create DF from MFCC's and 'emotion2' columns as labels"
   ]
  },
  {
   "cell_type": "code",
   "execution_count": 26,
   "metadata": {},
   "outputs": [],
   "source": [
    "new_y = mydf['emotion2'].copy()"
   ]
  },
  {
   "cell_type": "code",
   "execution_count": 4,
   "metadata": {},
   "outputs": [
    {
     "data": {
      "application/vnd.jupyter.widget-view+json": {
       "model_id": "42f85f1715574a0fbdae4aa6d9853e04",
       "version_major": 2,
       "version_minor": 0
      },
      "text/plain": [
       "  0%|          | 0/4720 [00:00<?, ?it/s]"
      ]
     },
     "metadata": {},
     "output_type": "display_data"
    }
   ],
   "source": [
    "X = []\n",
    "for i in tqdm(mydf['path']):\n",
    "    X.append(librosa.load(i, res_type='kaiser_fast', sr=44000))"
   ]
  },
  {
   "cell_type": "code",
   "execution_count": 5,
   "metadata": {},
   "outputs": [],
   "source": [
    "new_x = []\n",
    "for ind,i in enumerate(X):\n",
    "    new_x.append(i[0])"
   ]
  },
  {
   "cell_type": "code",
   "execution_count": 6,
   "metadata": {},
   "outputs": [
    {
     "data": {
      "image/png": "[encoded data removed]",
      "text/plain": [
       "<Figure size 432x288 with 1 Axes>"
      ]
     },
     "metadata": {},
     "output_type": "display_data"
    }
   ],
   "source": [
    "lengths = [len(x) for x in new_x]\n",
    "\n",
    "plt.title('Lengths distribution')\n",
    "sns.boxplot(lengths)\n",
    "plt.show()"
   ]
  },
  {
   "cell_type": "code",
   "execution_count": 7,
   "metadata": {},
   "outputs": [],
   "source": [
    "thresh = 300000"
   ]
  },
  {
   "cell_type": "code",
   "execution_count": 8,
   "metadata": {},
   "outputs": [
    {
     "name": "stdout",
     "output_type": "stream",
     "text": [
      "3\n"
     ]
    },
    {
     "data": {
      "image/png": "[encoded data removed]",
      "text/plain": [
       "<Figure size 432x288 with 1 Axes>"
      ]
     },
     "metadata": {},
     "output_type": "display_data"
    }
   ],
   "source": [
    "lengths = np.array(lengths)\n",
    "print((lengths > thresh).sum())\n",
    "new_lengths = lengths[lengths < thresh]\n",
    "\n",
    "sns.boxplot(new_lengths)\n",
    "plt.show()"
   ]
  },
  {
   "cell_type": "code",
   "execution_count": 9,
   "metadata": {},
   "outputs": [
    {
     "data": {
      "text/plain": [
       "120378.5976256095"
      ]
     },
     "execution_count": 9,
     "metadata": {},
     "output_type": "execute_result"
    }
   ],
   "source": [
    "new_lengths.mean()"
   ]
  },
  {
   "cell_type": "code",
   "execution_count": 10,
   "metadata": {},
   "outputs": [],
   "source": [
    "length_chosen = 120378"
   ]
  },
  {
   "cell_type": "code",
   "execution_count": 11,
   "metadata": {},
   "outputs": [],
   "source": [
    "import math\n",
    "\n",
    "X_new = []\n",
    "y_new = []\n",
    "for ind,i in enumerate(new_x):\n",
    "    if i.shape[0] < 300000:\n",
    "        if i.shape[0] > length_chosen:\n",
    "            new = i[:length_chosen]\n",
    "            X_new.append(new)\n",
    "        elif i.shape[0] < length_chosen:\n",
    "            new = np.pad(i,math.ceil((length_chosen-i.shape[0])/2), mode='median')\n",
    "            X_new.append(new)\n",
    "        else:\n",
    "            X_new.append(i)\n",
    "            \n",
    "        y_new.append(new_y[ind])\n",
    "            "
   ]
  },
  {
   "cell_type": "code",
   "execution_count": 12,
   "metadata": {},
   "outputs": [
    {
     "name": "stdout",
     "output_type": "stream",
     "text": [
      "(4717,) (4717,)\n"
     ]
    },
    {
     "name": "stderr",
     "output_type": "stream",
     "text": [
      "<ipython-input-12-c6c504f55594>:1: VisibleDeprecationWarning: Creating an ndarray from ragged nested sequences (which is a list-or-tuple of lists-or-tuples-or ndarrays with different lengths or shapes) is deprecated. If you meant to do this, you must specify 'dtype=object' when creating the ndarray\n",
      "  X = np.array(X_new)\n"
     ]
    }
   ],
   "source": [
    "X = np.array(X_new)\n",
    "y = np.array(y_new)\n",
    "print(X.shape, y.shape)"
   ]
  },
  {
   "cell_type": "code",
   "execution_count": 13,
   "metadata": {},
   "outputs": [
    {
     "data": {
      "application/vnd.jupyter.widget-view+json": {
       "model_id": "cb83d41e9959400e8cd1eb125fb11dcc",
       "version_major": 2,
       "version_minor": 0
      },
      "text/plain": [
       "  0%|          | 0/4717 [00:00<?, ?it/s]"
      ]
     },
     "metadata": {},
     "output_type": "display_data"
    }
   ],
   "source": [
    "mfccs = []\n",
    "for i in tqdm(X):\n",
    "    mfcc = librosa.feature.mfcc(y=i, sr=44000, n_mfcc=20)\n",
    "    mfcc = mfcc.T\n",
    "    mfccs.append(mfcc)\n"
   ]
  },
  {
   "cell_type": "code",
   "execution_count": 14,
   "metadata": {},
   "outputs": [],
   "source": [
    "mfccs = np.array(mfccs)"
   ]
  },
  {
   "cell_type": "code",
   "execution_count": 360,
   "metadata": {},
   "outputs": [
    {
     "data": {
      "text/plain": [
       "((4720, 5), (4717, 236, 40), (4717,))"
      ]
     },
     "execution_count": 360,
     "metadata": {},
     "output_type": "execute_result"
    }
   ],
   "source": [
    "mydf.shape, mfccs.shape, y.shape"
   ]
  },
  {
   "cell_type": "markdown",
   "metadata": {},
   "source": [
    "### Save the data:"
   ]
  },
  {
   "cell_type": "code",
   "execution_count": 16,
   "metadata": {},
   "outputs": [],
   "source": [
    "mfccs_path = 'd://ITC//final_project//mfccs.pickle'\n",
    "y_path = 'd://ITC//final_project//y.pickle'\n",
    "\n",
    "with open(mfccs_path, 'wb') as f:\n",
    "    pickle.dump(mfccs,f)\n",
    "    \n",
    "with open(y_path, 'wb') as f:\n",
    "    pickle.dump(y,f)"
   ]
  },
  {
   "cell_type": "markdown",
   "metadata": {},
   "source": [
    "# BASELINE MODEL"
   ]
  },
  {
   "cell_type": "markdown",
   "metadata": {},
   "source": [
    "### At this point, we can perform a normal classification, using our mfccs coefficients as our features."
   ]
  },
  {
   "cell_type": "code",
   "execution_count": 2,
   "metadata": {},
   "outputs": [],
   "source": [
    "# random:\n",
    "from sklearn.model_selection import train_test_split\n",
    "X_train, X_test, y_train, y_test = train_test_split(mfccs, y, test_size=0.20)\n",
    "X_train.shape, X_test.shape, y_train.shape, y_test.shape"
   ]
  },
  {
   "cell_type": "markdown",
   "metadata": {},
   "source": [
    "\n",
    "### We'll change the values in our target variable and expand the dimension of our features to fit the neural networks."
   ]
  },
  {
   "cell_type": "code",
   "execution_count": 18,
   "metadata": {},
   "outputs": [],
   "source": [
    "from tensorflow.keras.models import Sequential\n",
    "from tensorflow.keras import layers\n",
    "from tensorflow.keras.layers import Dense\n",
    "\n",
    "model = Sequential(\n",
    "    [\n",
    "     layers.Conv1D(64, 3, activation='relu', input_shape=(236,20)),\n",
    "     layers.MaxPooling1D(),\n",
    "     layers.Conv1D(64, 3, activation='relu'),\n",
    "     layers.MaxPooling1D(),\n",
    "     layers.Conv1D(64, 3, activation='relu'),\n",
    "     layers.MaxPooling1D(),\n",
    "     layers.Flatten(),\n",
    "     layers.Dense(64, activation=\"relu\"),\n",
    "     layers.Dense(6, activation=\"softmax\")\n",
    "    ]\n",
    ")\n"
   ]
  },
  {
   "cell_type": "code",
   "execution_count": 95,
   "metadata": {},
   "outputs": [
    {
     "name": "stdout",
     "output_type": "stream",
     "text": [
      "Model: \"sequential_17\"\n",
      "_________________________________________________________________\n",
      "Layer (type)                 Output Shape              Param #   \n",
      "=================================================================\n",
      "conv1d_90 (Conv1D)           (None, 234, 64)           3904      \n",
      "_________________________________________________________________\n",
      "max_pooling1d_40 (MaxPooling (None, 117, 64)           0         \n",
      "_________________________________________________________________\n",
      "conv1d_91 (Conv1D)           (None, 115, 64)           12352     \n",
      "_________________________________________________________________\n",
      "max_pooling1d_41 (MaxPooling (None, 57, 64)            0         \n",
      "_________________________________________________________________\n",
      "conv1d_92 (Conv1D)           (None, 55, 64)            12352     \n",
      "_________________________________________________________________\n",
      "max_pooling1d_42 (MaxPooling (None, 27, 64)            0         \n",
      "_________________________________________________________________\n",
      "flatten_10 (Flatten)         (None, 1728)              0         \n",
      "_________________________________________________________________\n",
      "dense_13 (Dense)             (None, 64)                110656    \n",
      "_________________________________________________________________\n",
      "dense_14 (Dense)             (None, 6)                 390       \n",
      "=================================================================\n",
      "Total params: 139,654\n",
      "Trainable params: 139,654\n",
      "Non-trainable params: 0\n",
      "_________________________________________________________________\n"
     ]
    }
   ],
   "source": [
    "model.summary()"
   ]
  },
  {
   "cell_type": "code",
   "execution_count": 96,
   "metadata": {},
   "outputs": [
    {
     "data": {
      "text/plain": [
       "((None, 236, 20), (None, 6))"
      ]
     },
     "execution_count": 96,
     "metadata": {},
     "output_type": "execute_result"
    }
   ],
   "source": [
    "model.input_shape, model.output_shape"
   ]
  },
  {
   "cell_type": "markdown",
   "metadata": {},
   "source": [
    "### Encoding the labels:"
   ]
  },
  {
   "cell_type": "code",
   "execution_count": 19,
   "metadata": {},
   "outputs": [
    {
     "data": {
      "text/plain": [
       "{'negative_female',\n",
       " 'negative_male',\n",
       " 'neutral_female',\n",
       " 'neutral_male',\n",
       " 'positive_female',\n",
       " 'positive_male'}"
      ]
     },
     "execution_count": 19,
     "metadata": {},
     "output_type": "execute_result"
    }
   ],
   "source": [
    "set(y)"
   ]
  },
  {
   "cell_type": "code",
   "execution_count": 20,
   "metadata": {},
   "outputs": [],
   "source": [
    "emotions_encode = {'negative_female':0, 'negative_male':1, 'neutral_female':2, 'neutral_male':3,\n",
    "                  'positive_female':4, 'positive_male':5}"
   ]
  },
  {
   "cell_type": "code",
   "execution_count": 21,
   "metadata": {},
   "outputs": [],
   "source": [
    "y_train = pd.Series(y_train).map(emotions_encode)\n",
    "y_test = pd.Series(y_test).map(emotions_encode)"
   ]
  },
  {
   "cell_type": "code",
   "execution_count": 99,
   "metadata": {},
   "outputs": [
    {
     "name": "stdout",
     "output_type": "stream",
     "text": [
      "Epoch 1/50\n",
      "236/236 [==============================] - 20s 13ms/step - loss: 5.8538 - accuracy: 0.4724 - val_loss: 0.6819 - val_accuracy: 0.7066\n",
      "Epoch 2/50\n",
      "236/236 [==============================] - 2s 10ms/step - loss: 0.5316 - accuracy: 0.7633 - val_loss: 0.4354 - val_accuracy: 0.7977\n",
      "Epoch 3/50\n",
      "236/236 [==============================] - 2s 10ms/step - loss: 0.4226 - accuracy: 0.8040 - val_loss: 0.4130 - val_accuracy: 0.8030\n",
      "Epoch 4/50\n",
      "236/236 [==============================] - 2s 10ms/step - loss: 0.3744 - accuracy: 0.8267 - val_loss: 0.4577 - val_accuracy: 0.7977\n",
      "Epoch 5/50\n",
      "236/236 [==============================] - 2s 10ms/step - loss: 0.3433 - accuracy: 0.8393 - val_loss: 0.3599 - val_accuracy: 0.8263\n",
      "Epoch 6/50\n",
      "236/236 [==============================] - 2s 10ms/step - loss: 0.2857 - accuracy: 0.8825 - val_loss: 0.4165 - val_accuracy: 0.8189\n",
      "Epoch 7/50\n",
      "236/236 [==============================] - 2s 10ms/step - loss: 0.3498 - accuracy: 0.8473 - val_loss: 0.3270 - val_accuracy: 0.8612\n",
      "Epoch 8/50\n",
      "236/236 [==============================] - 2s 10ms/step - loss: 0.2967 - accuracy: 0.8730 - val_loss: 0.2963 - val_accuracy: 0.8528\n",
      "Epoch 9/50\n",
      "236/236 [==============================] - 2s 10ms/step - loss: 0.2321 - accuracy: 0.8962 - val_loss: 0.3603 - val_accuracy: 0.8443\n",
      "Epoch 10/50\n",
      "236/236 [==============================] - 2s 10ms/step - loss: 0.2428 - accuracy: 0.8963 - val_loss: 0.3239 - val_accuracy: 0.8623\n",
      "Epoch 11/50\n",
      "236/236 [==============================] - 2s 10ms/step - loss: 0.2560 - accuracy: 0.8974 - val_loss: 0.3238 - val_accuracy: 0.8708\n",
      "Epoch 12/50\n",
      "236/236 [==============================] - 3s 10ms/step - loss: 0.1962 - accuracy: 0.9154 - val_loss: 0.3971 - val_accuracy: 0.8517\n",
      "Epoch 13/50\n",
      "236/236 [==============================] - 2s 10ms/step - loss: 0.1645 - accuracy: 0.9294 - val_loss: 0.4778 - val_accuracy: 0.8273\n",
      "Epoch 14/50\n",
      "236/236 [==============================] - 3s 11ms/step - loss: 0.1934 - accuracy: 0.9122 - val_loss: 0.3719 - val_accuracy: 0.8570\n",
      "Epoch 15/50\n",
      "236/236 [==============================] - 2s 10ms/step - loss: 0.1256 - accuracy: 0.9503 - val_loss: 0.3465 - val_accuracy: 0.8612\n",
      "Epoch 16/50\n",
      "236/236 [==============================] - 2s 10ms/step - loss: 0.1299 - accuracy: 0.9502 - val_loss: 0.4192 - val_accuracy: 0.8559\n",
      "Epoch 17/50\n",
      "236/236 [==============================] - 2s 10ms/step - loss: 0.1533 - accuracy: 0.9458 - val_loss: 0.3765 - val_accuracy: 0.8792\n",
      "Epoch 18/50\n",
      "236/236 [==============================] - 2s 10ms/step - loss: 0.0911 - accuracy: 0.9682 - val_loss: 0.4223 - val_accuracy: 0.8612\n",
      "Epoch 19/50\n",
      "236/236 [==============================] - 2s 10ms/step - loss: 0.1292 - accuracy: 0.9444 - val_loss: 0.4556 - val_accuracy: 0.8739\n",
      "Epoch 20/50\n",
      "236/236 [==============================] - 2s 10ms/step - loss: 0.1306 - accuracy: 0.9525 - val_loss: 0.4623 - val_accuracy: 0.8676\n",
      "Epoch 21/50\n",
      "236/236 [==============================] - 3s 11ms/step - loss: 0.0914 - accuracy: 0.9625 - val_loss: 0.5377 - val_accuracy: 0.8739\n",
      "Epoch 22/50\n",
      "236/236 [==============================] - 3s 11ms/step - loss: 0.0994 - accuracy: 0.9582 - val_loss: 0.4912 - val_accuracy: 0.8739\n",
      "Epoch 23/50\n",
      "236/236 [==============================] - 2s 10ms/step - loss: 0.0725 - accuracy: 0.9705 - val_loss: 0.4788 - val_accuracy: 0.8750\n",
      "Epoch 24/50\n",
      "236/236 [==============================] - 2s 10ms/step - loss: 0.1750 - accuracy: 0.9448 - val_loss: 0.4983 - val_accuracy: 0.8718\n",
      "Epoch 25/50\n",
      "236/236 [==============================] - 3s 11ms/step - loss: 0.0887 - accuracy: 0.9641 - val_loss: 0.4622 - val_accuracy: 0.8718\n",
      "Epoch 26/50\n",
      "236/236 [==============================] - 3s 11ms/step - loss: 0.0430 - accuracy: 0.9828 - val_loss: 0.4860 - val_accuracy: 0.8867\n",
      "Epoch 27/50\n",
      "236/236 [==============================] - 2s 10ms/step - loss: 0.0165 - accuracy: 0.9944 - val_loss: 0.5575 - val_accuracy: 0.8729\n",
      "Epoch 28/50\n",
      "236/236 [==============================] - 2s 10ms/step - loss: 0.1615 - accuracy: 0.9456 - val_loss: 0.5697 - val_accuracy: 0.8676\n",
      "Epoch 29/50\n",
      "236/236 [==============================] - 2s 10ms/step - loss: 0.0792 - accuracy: 0.9700 - val_loss: 0.6345 - val_accuracy: 0.8697\n",
      "Epoch 30/50\n",
      "236/236 [==============================] - 2s 10ms/step - loss: 0.0421 - accuracy: 0.9858 - val_loss: 0.5473 - val_accuracy: 0.8623\n",
      "Epoch 31/50\n",
      "236/236 [==============================] - 2s 10ms/step - loss: 0.0504 - accuracy: 0.9833 - val_loss: 0.6440 - val_accuracy: 0.8570\n",
      "Epoch 32/50\n",
      "236/236 [==============================] - 2s 10ms/step - loss: 0.1199 - accuracy: 0.9616 - val_loss: 0.7074 - val_accuracy: 0.8316\n",
      "Epoch 33/50\n",
      "236/236 [==============================] - 2s 10ms/step - loss: 0.1188 - accuracy: 0.9582 - val_loss: 0.5942 - val_accuracy: 0.8835\n",
      "Epoch 34/50\n",
      "236/236 [==============================] - 2s 10ms/step - loss: 0.0308 - accuracy: 0.9882 - val_loss: 0.6092 - val_accuracy: 0.8845\n",
      "Epoch 35/50\n",
      "236/236 [==============================] - 2s 10ms/step - loss: 0.0145 - accuracy: 0.9958 - val_loss: 0.7070 - val_accuracy: 0.8708\n",
      "Epoch 36/50\n",
      "236/236 [==============================] - 2s 10ms/step - loss: 0.0867 - accuracy: 0.9718 - val_loss: 0.5495 - val_accuracy: 0.8856\n",
      "Epoch 37/50\n",
      "236/236 [==============================] - 2s 10ms/step - loss: 0.1056 - accuracy: 0.9674 - val_loss: 0.6388 - val_accuracy: 0.8856\n",
      "Epoch 38/50\n",
      "236/236 [==============================] - 2s 10ms/step - loss: 0.0700 - accuracy: 0.9784 - val_loss: 0.6765 - val_accuracy: 0.8708\n",
      "Epoch 39/50\n",
      "236/236 [==============================] - 2s 10ms/step - loss: 0.0614 - accuracy: 0.9808 - val_loss: 0.6056 - val_accuracy: 0.8803\n",
      "Epoch 40/50\n",
      "236/236 [==============================] - 3s 12ms/step - loss: 0.0315 - accuracy: 0.9898 - val_loss: 0.5853 - val_accuracy: 0.8792\n",
      "Epoch 41/50\n",
      "236/236 [==============================] - 2s 10ms/step - loss: 0.1818 - accuracy: 0.9592 - val_loss: 0.5117 - val_accuracy: 0.8824\n",
      "Epoch 42/50\n",
      "236/236 [==============================] - 3s 11ms/step - loss: 0.0266 - accuracy: 0.9905 - val_loss: 0.5768 - val_accuracy: 0.8845\n",
      "Epoch 43/50\n",
      "236/236 [==============================] - 2s 10ms/step - loss: 0.0096 - accuracy: 0.9968 - val_loss: 0.6687 - val_accuracy: 0.8930\n",
      "Epoch 44/50\n",
      "236/236 [==============================] - 2s 10ms/step - loss: 0.0176 - accuracy: 0.9952 - val_loss: 0.6222 - val_accuracy: 0.8718\n",
      "Epoch 45/50\n",
      "236/236 [==============================] - 2s 10ms/step - loss: 0.2342 - accuracy: 0.9412 - val_loss: 0.6344 - val_accuracy: 0.8782\n",
      "Epoch 46/50\n",
      "236/236 [==============================] - 2s 10ms/step - loss: 0.0572 - accuracy: 0.9866 - val_loss: 0.6024 - val_accuracy: 0.8845\n",
      "Epoch 47/50\n",
      "236/236 [==============================] - 2s 10ms/step - loss: 0.0470 - accuracy: 0.9850 - val_loss: 0.5915 - val_accuracy: 0.8803\n",
      "Epoch 48/50\n",
      "236/236 [==============================] - 3s 11ms/step - loss: 0.0086 - accuracy: 0.9975 - val_loss: 0.6257 - val_accuracy: 0.8951\n",
      "Epoch 49/50\n",
      "236/236 [==============================] - 2s 11ms/step - loss: 0.0011 - accuracy: 1.0000 - val_loss: 0.6220 - val_accuracy: 0.8972\n",
      "Epoch 50/50\n",
      "236/236 [==============================] - 2s 10ms/step - loss: 4.1290e-04 - accuracy: 1.0000 - val_loss: 0.6335 - val_accuracy: 0.8983\n"
     ]
    },
    {
     "data": {
      "text/plain": [
       "<tensorflow.python.keras.callbacks.History at 0x24f9ae4e0a0>"
      ]
     },
     "execution_count": 99,
     "metadata": {},
     "output_type": "execute_result"
    }
   ],
   "source": [
    "model.compile(loss='sparse_categorical_crossentropy', optimizer='adam', metrics='accuracy')\n",
    "model.fit(X_train, y_train, batch_size=16, epochs=50, validation_data=(X_test, y_test))"
   ]
  },
  {
   "cell_type": "code",
   "execution_count": 29,
   "metadata": {},
   "outputs": [],
   "source": [
    "from sklearn.metrics import classification_report\n",
    "\n",
    "y_pred = model.predict(X_test)\n",
    "y_pred = [np.argmax(x) for x in y_pred]\n",
    "print(classification_report(y_test, y_pred, target_names = list(emotions_encode.keys())))"
   ]
  },
  {
   "cell_type": "code",
   "execution_count": 72,
   "metadata": {},
   "outputs": [
    {
     "data": {
      "text/plain": [
       "array(['negative_female', 'positive_female', 'neutral_female',\n",
       "       'neutral_male', 'positive_male', 'negative_male'], dtype=object)"
      ]
     },
     "execution_count": 72,
     "metadata": {},
     "output_type": "execute_result"
    }
   ],
   "source": [
    "mydf['emotion2'].unique()"
   ]
  },
  {
   "cell_type": "code",
   "execution_count": 22,
   "metadata": {},
   "outputs": [
    {
     "name": "stdout",
     "output_type": "stream",
     "text": [
      "Model: \"sequential\"\n",
      "_________________________________________________________________\n",
      "Layer (type)                 Output Shape              Param #   \n",
      "=================================================================\n",
      "conv1d (Conv1D)              (None, 236, 256)          25856     \n",
      "_________________________________________________________________\n",
      "activation (Activation)      (None, 236, 256)          0         \n",
      "_________________________________________________________________\n",
      "max_pooling1d (MaxPooling1D) (None, 29, 256)           0         \n",
      "_________________________________________________________________\n",
      "dropout (Dropout)            (None, 29, 256)           0         \n",
      "_________________________________________________________________\n",
      "conv1d_1 (Conv1D)            (None, 29, 128)           163968    \n",
      "_________________________________________________________________\n",
      "activation_1 (Activation)    (None, 29, 128)           0         \n",
      "_________________________________________________________________\n",
      "dropout_1 (Dropout)          (None, 29, 128)           0         \n",
      "_________________________________________________________________\n",
      "flatten (Flatten)            (None, 3712)              0         \n",
      "_________________________________________________________________\n",
      "dense (Dense)                (None, 6)                 22278     \n",
      "_________________________________________________________________\n",
      "activation_2 (Activation)    (None, 6)                 0         \n",
      "=================================================================\n",
      "Total params: 212,102\n",
      "Trainable params: 212,102\n",
      "Non-trainable params: 0\n",
      "_________________________________________________________________\n"
     ]
    }
   ],
   "source": [
    "import tensorflow as tf\n",
    "\n",
    "model2 = Sequential()\n",
    "\n",
    "model2.add(layers.Conv1D(256, 5,padding='same',\n",
    "                 input_shape=(236,20)))\n",
    "model2.add(layers.Activation('relu'))\n",
    "model2.add(layers.MaxPooling1D(pool_size=(8)))\n",
    "model2.add(layers.Dropout(0.1))\n",
    "\n",
    "model2.add(layers.Conv1D(128, 5,padding='same'))\n",
    "model2.add(layers.Activation('relu'))\n",
    "model2.add(layers.Dropout(0.1))\n",
    "\n",
    "model2.add(layers.Flatten())\n",
    "model2.add(layers.Dense(6))\n",
    "model2.add(layers.Activation('softmax'))\n",
    "\n",
    "model2.summary()\n"
   ]
  },
  {
   "cell_type": "code",
   "execution_count": 16,
   "metadata": {},
   "outputs": [],
   "source": [
    "reduce_lr = tf.keras.callbacks.ReduceLROnPlateau(monitor='val_accuracy', \n",
    "                                                 factor=0.5, patience=4, \n",
    "                                                 verbose=1, mode='max', \n",
    "                                                 min_lr=0.00001)\n",
    "\n",
    "early_stop = tf.keras.callbacks.EarlyStopping(monitor='val_loss', patience=40, \n",
    "                                              verbose=1)\n",
    "\n",
    "weight_path = 'd://ITC//final_project//best_weights.hdf5'\n",
    "model_checkpoint = tf.keras.callbacks.ModelCheckpoint(filepath=weight_path, \n",
    "                                                      save_weights_only=True, \n",
    "                                                      monitor='val_accuracy', \n",
    "                                                      mode='max', \n",
    "                                                      save_best_only=True)\n"
   ]
  },
  {
   "cell_type": "code",
   "execution_count": 31,
   "metadata": {
    "scrolled": true
   },
   "outputs": [
    {
     "name": "stdout",
     "output_type": "stream",
     "text": [
      "Epoch 1/500\n",
      "236/236 [==============================] - 6s 25ms/step - loss: 0.0031 - accuracy: 0.9989 - val_loss: 0.7180 - val_accuracy: 0.8972\n",
      "Epoch 2/500\n",
      "236/236 [==============================] - 6s 24ms/step - loss: 0.0041 - accuracy: 0.9984 - val_loss: 0.7073 - val_accuracy: 0.8941\n",
      "Epoch 3/500\n",
      "236/236 [==============================] - 6s 24ms/step - loss: 0.0095 - accuracy: 0.9979 - val_loss: 0.7165 - val_accuracy: 0.8941\n",
      "Epoch 4/500\n",
      "236/236 [==============================] - 6s 24ms/step - loss: 0.0054 - accuracy: 0.9979 - val_loss: 0.7106 - val_accuracy: 0.8909\n",
      "Epoch 5/500\n",
      "236/236 [==============================] - 6s 25ms/step - loss: 0.0034 - accuracy: 0.9987 - val_loss: 0.7105 - val_accuracy: 0.8919\n",
      "Epoch 6/500\n",
      "236/236 [==============================] - 6s 24ms/step - loss: 0.0030 - accuracy: 0.9992 - val_loss: 0.7163 - val_accuracy: 0.8909\n",
      "Epoch 7/500\n",
      "236/236 [==============================] - 6s 25ms/step - loss: 0.0047 - accuracy: 0.9979 - val_loss: 0.7203 - val_accuracy: 0.8919\n",
      "Epoch 8/500\n",
      "236/236 [==============================] - 6s 24ms/step - loss: 0.0055 - accuracy: 0.9981 - val_loss: 0.7154 - val_accuracy: 0.8919\n",
      "Epoch 9/500\n",
      "236/236 [==============================] - 6s 24ms/step - loss: 0.0025 - accuracy: 0.9992 - val_loss: 0.7168 - val_accuracy: 0.8919\n",
      "Epoch 10/500\n",
      "236/236 [==============================] - 6s 24ms/step - loss: 0.0043 - accuracy: 0.9981 - val_loss: 0.7182 - val_accuracy: 0.8909\n",
      "Epoch 11/500\n",
      "236/236 [==============================] - 6s 25ms/step - loss: 0.0046 - accuracy: 0.9979 - val_loss: 0.7185 - val_accuracy: 0.8919\n",
      "Epoch 12/500\n",
      "236/236 [==============================] - 6s 24ms/step - loss: 0.0124 - accuracy: 0.9979 - val_loss: 0.7163 - val_accuracy: 0.8930\n",
      "Epoch 13/500\n",
      "236/236 [==============================] - 6s 24ms/step - loss: 0.0060 - accuracy: 0.9981 - val_loss: 0.7138 - val_accuracy: 0.8930\n",
      "Epoch 14/500\n",
      "236/236 [==============================] - 6s 26ms/step - loss: 0.0048 - accuracy: 0.9981 - val_loss: 0.7101 - val_accuracy: 0.8962\n",
      "Epoch 15/500\n",
      "236/236 [==============================] - 6s 25ms/step - loss: 0.0050 - accuracy: 0.9976 - val_loss: 0.7164 - val_accuracy: 0.8941\n",
      "Epoch 16/500\n",
      "236/236 [==============================] - 6s 24ms/step - loss: 0.0048 - accuracy: 0.9984 - val_loss: 0.7219 - val_accuracy: 0.9004\n",
      "Epoch 17/500\n",
      "236/236 [==============================] - 6s 24ms/step - loss: 0.0041 - accuracy: 0.9979 - val_loss: 0.7147 - val_accuracy: 0.8994\n",
      "Epoch 18/500\n",
      "236/236 [==============================] - 6s 25ms/step - loss: 0.0050 - accuracy: 0.9984 - val_loss: 0.7105 - val_accuracy: 0.8962\n",
      "Epoch 19/500\n",
      "236/236 [==============================] - 6s 24ms/step - loss: 0.0026 - accuracy: 0.9995 - val_loss: 0.7134 - val_accuracy: 0.8941\n",
      "Epoch 20/500\n",
      "236/236 [==============================] - 6s 26ms/step - loss: 0.0037 - accuracy: 0.9992 - val_loss: 0.7120 - val_accuracy: 0.8972\n",
      "Epoch 21/500\n",
      "236/236 [==============================] - 6s 24ms/step - loss: 0.0030 - accuracy: 0.9989 - val_loss: 0.7145 - val_accuracy: 0.8962\n",
      "Epoch 22/500\n",
      "236/236 [==============================] - 6s 25ms/step - loss: 0.0020 - accuracy: 0.9995 - val_loss: 0.7179 - val_accuracy: 0.8951\n",
      "Epoch 23/500\n",
      "236/236 [==============================] - 6s 26ms/step - loss: 0.0021 - accuracy: 0.9992 - val_loss: 0.7147 - val_accuracy: 0.8972\n",
      "Epoch 24/500\n",
      "236/236 [==============================] - 6s 24ms/step - loss: 0.0030 - accuracy: 0.9989 - val_loss: 0.7209 - val_accuracy: 0.8972\n",
      "Epoch 25/500\n",
      "236/236 [==============================] - 6s 26ms/step - loss: 0.0014 - accuracy: 0.9995 - val_loss: 0.7201 - val_accuracy: 0.8951\n",
      "Epoch 26/500\n",
      "236/236 [==============================] - 6s 24ms/step - loss: 0.0026 - accuracy: 0.9995 - val_loss: 0.7214 - val_accuracy: 0.8941\n",
      "Epoch 27/500\n",
      "236/236 [==============================] - 6s 24ms/step - loss: 0.0046 - accuracy: 0.9989 - val_loss: 0.7051 - val_accuracy: 0.8972\n",
      "Epoch 28/500\n",
      "236/236 [==============================] - 6s 24ms/step - loss: 0.0028 - accuracy: 0.9992 - val_loss: 0.7075 - val_accuracy: 0.8951\n",
      "Epoch 29/500\n",
      "236/236 [==============================] - 6s 24ms/step - loss: 0.0014 - accuracy: 0.9997 - val_loss: 0.7110 - val_accuracy: 0.8941\n",
      "Epoch 30/500\n",
      "236/236 [==============================] - 6s 25ms/step - loss: 0.0032 - accuracy: 0.9989 - val_loss: 0.7196 - val_accuracy: 0.8951\n",
      "Epoch 31/500\n",
      "236/236 [==============================] - 6s 24ms/step - loss: 0.0039 - accuracy: 0.9981 - val_loss: 0.7172 - val_accuracy: 0.8941\n",
      "Epoch 32/500\n",
      "236/236 [==============================] - 6s 24ms/step - loss: 0.0047 - accuracy: 0.9979 - val_loss: 0.7134 - val_accuracy: 0.8951\n",
      "Epoch 33/500\n",
      "236/236 [==============================] - 6s 24ms/step - loss: 0.0078 - accuracy: 0.9981 - val_loss: 0.7124 - val_accuracy: 0.8972\n",
      "Epoch 34/500\n",
      "236/236 [==============================] - 6s 23ms/step - loss: 0.0034 - accuracy: 0.9984 - val_loss: 0.7108 - val_accuracy: 0.8994\n",
      "Epoch 35/500\n",
      "236/236 [==============================] - 6s 25ms/step - loss: 0.0029 - accuracy: 0.9987 - val_loss: 0.7135 - val_accuracy: 0.8972\n",
      "Epoch 36/500\n",
      " 57/236 [======>.......................] - ETA: 4s - loss: 0.0020 - accuracy: 0.9989"
     ]
    },
    {
     "ename": "KeyboardInterrupt",
     "evalue": "",
     "output_type": "error",
     "traceback": [
      "\u001b[1;31m---------------------------------------------------------------------------\u001b[0m",
      "\u001b[1;31mKeyboardInterrupt\u001b[0m                         Traceback (most recent call last)",
      "\u001b[1;32m<ipython-input-31-d8bbe8e9ba4f>\u001b[0m in \u001b[0;36m<module>\u001b[1;34m\u001b[0m\n\u001b[0;32m      1\u001b[0m \u001b[1;31m# model2.compile(loss='sparse_categorical_crossentropy', optimizer='adam', metrics='accuracy')\u001b[0m\u001b[1;33m\u001b[0m\u001b[1;33m\u001b[0m\u001b[1;33m\u001b[0m\u001b[0m\n\u001b[1;32m----> 2\u001b[1;33m model2.fit(X_train, y_train, batch_size=16, epochs=500, validation_data=(X_test, y_test),\n\u001b[0m\u001b[0;32m      3\u001b[0m            callbacks=[reduce_lr, early_stop, model_checkpoint])\n",
      "\u001b[1;32m~\\anaconda3\\lib\\site-packages\\tensorflow\\python\\keras\\engine\\training.py\u001b[0m in \u001b[0;36mfit\u001b[1;34m(self, x, y, batch_size, epochs, verbose, callbacks, validation_split, validation_data, shuffle, class_weight, sample_weight, initial_epoch, steps_per_epoch, validation_steps, validation_batch_size, validation_freq, max_queue_size, workers, use_multiprocessing)\u001b[0m\n\u001b[0;32m   1098\u001b[0m                 _r=1):\n\u001b[0;32m   1099\u001b[0m               \u001b[0mcallbacks\u001b[0m\u001b[1;33m.\u001b[0m\u001b[0mon_train_batch_begin\u001b[0m\u001b[1;33m(\u001b[0m\u001b[0mstep\u001b[0m\u001b[1;33m)\u001b[0m\u001b[1;33m\u001b[0m\u001b[1;33m\u001b[0m\u001b[0m\n\u001b[1;32m-> 1100\u001b[1;33m               \u001b[0mtmp_logs\u001b[0m \u001b[1;33m=\u001b[0m \u001b[0mself\u001b[0m\u001b[1;33m.\u001b[0m\u001b[0mtrain_function\u001b[0m\u001b[1;33m(\u001b[0m\u001b[0miterator\u001b[0m\u001b[1;33m)\u001b[0m\u001b[1;33m\u001b[0m\u001b[1;33m\u001b[0m\u001b[0m\n\u001b[0m\u001b[0;32m   1101\u001b[0m               \u001b[1;32mif\u001b[0m \u001b[0mdata_handler\u001b[0m\u001b[1;33m.\u001b[0m\u001b[0mshould_sync\u001b[0m\u001b[1;33m:\u001b[0m\u001b[1;33m\u001b[0m\u001b[1;33m\u001b[0m\u001b[0m\n\u001b[0;32m   1102\u001b[0m                 \u001b[0mcontext\u001b[0m\u001b[1;33m.\u001b[0m\u001b[0masync_wait\u001b[0m\u001b[1;33m(\u001b[0m\u001b[1;33m)\u001b[0m\u001b[1;33m\u001b[0m\u001b[1;33m\u001b[0m\u001b[0m\n",
      "\u001b[1;32m~\\anaconda3\\lib\\site-packages\\tensorflow\\python\\eager\\def_function.py\u001b[0m in \u001b[0;36m__call__\u001b[1;34m(self, *args, **kwds)\u001b[0m\n\u001b[0;32m    826\u001b[0m     \u001b[0mtracing_count\u001b[0m \u001b[1;33m=\u001b[0m \u001b[0mself\u001b[0m\u001b[1;33m.\u001b[0m\u001b[0mexperimental_get_tracing_count\u001b[0m\u001b[1;33m(\u001b[0m\u001b[1;33m)\u001b[0m\u001b[1;33m\u001b[0m\u001b[1;33m\u001b[0m\u001b[0m\n\u001b[0;32m    827\u001b[0m     \u001b[1;32mwith\u001b[0m \u001b[0mtrace\u001b[0m\u001b[1;33m.\u001b[0m\u001b[0mTrace\u001b[0m\u001b[1;33m(\u001b[0m\u001b[0mself\u001b[0m\u001b[1;33m.\u001b[0m\u001b[0m_name\u001b[0m\u001b[1;33m)\u001b[0m \u001b[1;32mas\u001b[0m \u001b[0mtm\u001b[0m\u001b[1;33m:\u001b[0m\u001b[1;33m\u001b[0m\u001b[1;33m\u001b[0m\u001b[0m\n\u001b[1;32m--> 828\u001b[1;33m       \u001b[0mresult\u001b[0m \u001b[1;33m=\u001b[0m \u001b[0mself\u001b[0m\u001b[1;33m.\u001b[0m\u001b[0m_call\u001b[0m\u001b[1;33m(\u001b[0m\u001b[1;33m*\u001b[0m\u001b[0margs\u001b[0m\u001b[1;33m,\u001b[0m \u001b[1;33m**\u001b[0m\u001b[0mkwds\u001b[0m\u001b[1;33m)\u001b[0m\u001b[1;33m\u001b[0m\u001b[1;33m\u001b[0m\u001b[0m\n\u001b[0m\u001b[0;32m    829\u001b[0m       \u001b[0mcompiler\u001b[0m \u001b[1;33m=\u001b[0m \u001b[1;34m\"xla\"\u001b[0m \u001b[1;32mif\u001b[0m \u001b[0mself\u001b[0m\u001b[1;33m.\u001b[0m\u001b[0m_experimental_compile\u001b[0m \u001b[1;32melse\u001b[0m \u001b[1;34m\"nonXla\"\u001b[0m\u001b[1;33m\u001b[0m\u001b[1;33m\u001b[0m\u001b[0m\n\u001b[0;32m    830\u001b[0m       \u001b[0mnew_tracing_count\u001b[0m \u001b[1;33m=\u001b[0m \u001b[0mself\u001b[0m\u001b[1;33m.\u001b[0m\u001b[0mexperimental_get_tracing_count\u001b[0m\u001b[1;33m(\u001b[0m\u001b[1;33m)\u001b[0m\u001b[1;33m\u001b[0m\u001b[1;33m\u001b[0m\u001b[0m\n",
      "\u001b[1;32m~\\anaconda3\\lib\\site-packages\\tensorflow\\python\\eager\\def_function.py\u001b[0m in \u001b[0;36m_call\u001b[1;34m(self, *args, **kwds)\u001b[0m\n\u001b[0;32m    853\u001b[0m       \u001b[1;31m# In this case we have created variables on the first call, so we run the\u001b[0m\u001b[1;33m\u001b[0m\u001b[1;33m\u001b[0m\u001b[1;33m\u001b[0m\u001b[0m\n\u001b[0;32m    854\u001b[0m       \u001b[1;31m# defunned version which is guaranteed to never create variables.\u001b[0m\u001b[1;33m\u001b[0m\u001b[1;33m\u001b[0m\u001b[1;33m\u001b[0m\u001b[0m\n\u001b[1;32m--> 855\u001b[1;33m       \u001b[1;32mreturn\u001b[0m \u001b[0mself\u001b[0m\u001b[1;33m.\u001b[0m\u001b[0m_stateless_fn\u001b[0m\u001b[1;33m(\u001b[0m\u001b[1;33m*\u001b[0m\u001b[0margs\u001b[0m\u001b[1;33m,\u001b[0m \u001b[1;33m**\u001b[0m\u001b[0mkwds\u001b[0m\u001b[1;33m)\u001b[0m  \u001b[1;31m# pylint: disable=not-callable\u001b[0m\u001b[1;33m\u001b[0m\u001b[1;33m\u001b[0m\u001b[0m\n\u001b[0m\u001b[0;32m    856\u001b[0m     \u001b[1;32melif\u001b[0m \u001b[0mself\u001b[0m\u001b[1;33m.\u001b[0m\u001b[0m_stateful_fn\u001b[0m \u001b[1;32mis\u001b[0m \u001b[1;32mnot\u001b[0m \u001b[1;32mNone\u001b[0m\u001b[1;33m:\u001b[0m\u001b[1;33m\u001b[0m\u001b[1;33m\u001b[0m\u001b[0m\n\u001b[0;32m    857\u001b[0m       \u001b[1;31m# Release the lock early so that multiple threads can perform the call\u001b[0m\u001b[1;33m\u001b[0m\u001b[1;33m\u001b[0m\u001b[1;33m\u001b[0m\u001b[0m\n",
      "\u001b[1;32m~\\anaconda3\\lib\\site-packages\\tensorflow\\python\\eager\\function.py\u001b[0m in \u001b[0;36m__call__\u001b[1;34m(self, *args, **kwargs)\u001b[0m\n\u001b[0;32m   2940\u001b[0m       (graph_function,\n\u001b[0;32m   2941\u001b[0m        filtered_flat_args) = self._maybe_define_function(args, kwargs)\n\u001b[1;32m-> 2942\u001b[1;33m     return graph_function._call_flat(\n\u001b[0m\u001b[0;32m   2943\u001b[0m         filtered_flat_args, captured_inputs=graph_function.captured_inputs)  # pylint: disable=protected-access\n\u001b[0;32m   2944\u001b[0m \u001b[1;33m\u001b[0m\u001b[0m\n",
      "\u001b[1;32m~\\anaconda3\\lib\\site-packages\\tensorflow\\python\\eager\\function.py\u001b[0m in \u001b[0;36m_call_flat\u001b[1;34m(self, args, captured_inputs, cancellation_manager)\u001b[0m\n\u001b[0;32m   1916\u001b[0m         and executing_eagerly):\n\u001b[0;32m   1917\u001b[0m       \u001b[1;31m# No tape is watching; skip to running the function.\u001b[0m\u001b[1;33m\u001b[0m\u001b[1;33m\u001b[0m\u001b[1;33m\u001b[0m\u001b[0m\n\u001b[1;32m-> 1918\u001b[1;33m       return self._build_call_outputs(self._inference_function.call(\n\u001b[0m\u001b[0;32m   1919\u001b[0m           ctx, args, cancellation_manager=cancellation_manager))\n\u001b[0;32m   1920\u001b[0m     forward_backward = self._select_forward_and_backward_functions(\n",
      "\u001b[1;32m~\\anaconda3\\lib\\site-packages\\tensorflow\\python\\eager\\function.py\u001b[0m in \u001b[0;36mcall\u001b[1;34m(self, ctx, args, cancellation_manager)\u001b[0m\n\u001b[0;32m    553\u001b[0m       \u001b[1;32mwith\u001b[0m \u001b[0m_InterpolateFunctionError\u001b[0m\u001b[1;33m(\u001b[0m\u001b[0mself\u001b[0m\u001b[1;33m)\u001b[0m\u001b[1;33m:\u001b[0m\u001b[1;33m\u001b[0m\u001b[1;33m\u001b[0m\u001b[0m\n\u001b[0;32m    554\u001b[0m         \u001b[1;32mif\u001b[0m \u001b[0mcancellation_manager\u001b[0m \u001b[1;32mis\u001b[0m \u001b[1;32mNone\u001b[0m\u001b[1;33m:\u001b[0m\u001b[1;33m\u001b[0m\u001b[1;33m\u001b[0m\u001b[0m\n\u001b[1;32m--> 555\u001b[1;33m           outputs = execute.execute(\n\u001b[0m\u001b[0;32m    556\u001b[0m               \u001b[0mstr\u001b[0m\u001b[1;33m(\u001b[0m\u001b[0mself\u001b[0m\u001b[1;33m.\u001b[0m\u001b[0msignature\u001b[0m\u001b[1;33m.\u001b[0m\u001b[0mname\u001b[0m\u001b[1;33m)\u001b[0m\u001b[1;33m,\u001b[0m\u001b[1;33m\u001b[0m\u001b[1;33m\u001b[0m\u001b[0m\n\u001b[0;32m    557\u001b[0m               \u001b[0mnum_outputs\u001b[0m\u001b[1;33m=\u001b[0m\u001b[0mself\u001b[0m\u001b[1;33m.\u001b[0m\u001b[0m_num_outputs\u001b[0m\u001b[1;33m,\u001b[0m\u001b[1;33m\u001b[0m\u001b[1;33m\u001b[0m\u001b[0m\n",
      "\u001b[1;32m~\\anaconda3\\lib\\site-packages\\tensorflow\\python\\eager\\execute.py\u001b[0m in \u001b[0;36mquick_execute\u001b[1;34m(op_name, num_outputs, inputs, attrs, ctx, name)\u001b[0m\n\u001b[0;32m     57\u001b[0m   \u001b[1;32mtry\u001b[0m\u001b[1;33m:\u001b[0m\u001b[1;33m\u001b[0m\u001b[1;33m\u001b[0m\u001b[0m\n\u001b[0;32m     58\u001b[0m     \u001b[0mctx\u001b[0m\u001b[1;33m.\u001b[0m\u001b[0mensure_initialized\u001b[0m\u001b[1;33m(\u001b[0m\u001b[1;33m)\u001b[0m\u001b[1;33m\u001b[0m\u001b[1;33m\u001b[0m\u001b[0m\n\u001b[1;32m---> 59\u001b[1;33m     tensors = pywrap_tfe.TFE_Py_Execute(ctx._handle, device_name, op_name,\n\u001b[0m\u001b[0;32m     60\u001b[0m                                         inputs, attrs, num_outputs)\n\u001b[0;32m     61\u001b[0m   \u001b[1;32mexcept\u001b[0m \u001b[0mcore\u001b[0m\u001b[1;33m.\u001b[0m\u001b[0m_NotOkStatusException\u001b[0m \u001b[1;32mas\u001b[0m \u001b[0me\u001b[0m\u001b[1;33m:\u001b[0m\u001b[1;33m\u001b[0m\u001b[1;33m\u001b[0m\u001b[0m\n",
      "\u001b[1;31mKeyboardInterrupt\u001b[0m: "
     ]
    }
   ],
   "source": [
    "model2.compile(loss='sparse_categorical_crossentropy', optimizer='adam', metrics='accuracy')\n",
    "model2.fit(X_train, y_train, batch_size=16, epochs=500, validation_data=(X_test, y_test),\n",
    "           callbacks=[reduce_lr, early_stop, model_checkpoint])"
   ]
  },
  {
   "cell_type": "code",
   "execution_count": 32,
   "metadata": {},
   "outputs": [],
   "source": [
    "model2.load_weights('d://ITC//final_project//best_weights.hdf5')"
   ]
  },
  {
   "cell_type": "code",
   "execution_count": 33,
   "metadata": {},
   "outputs": [
    {
     "name": "stdout",
     "output_type": "stream",
     "text": [
      "                 precision    recall  f1-score   support\n",
      "\n",
      "negative_female       0.96      0.98      0.97       396\n",
      "  negative_male       0.73      0.74      0.74       138\n",
      " neutral_female       0.99      0.94      0.97       104\n",
      "   neutral_male       0.80      0.77      0.79        57\n",
      "positive_female       0.97      0.97      0.97       190\n",
      "  positive_male       0.59      0.58      0.58        59\n",
      "\n",
      "       accuracy                           0.90       944\n",
      "      macro avg       0.84      0.83      0.83       944\n",
      "   weighted avg       0.90      0.90      0.90       944\n",
      "\n"
     ]
    }
   ],
   "source": [
    "y_pred = model2.predict(X_test)\n",
    "y_pred = [np.argmax(x) for x in y_pred]\n",
    "print(classification_report(y_test, y_pred, target_names = list(emotions_encode.keys())))"
   ]
  },
  {
   "cell_type": "markdown",
   "metadata": {},
   "source": [
    "## Classifiy emotions- first we'll need to create new MFCC's and target arrays:"
   ]
  },
  {
   "cell_type": "code",
   "execution_count": 27,
   "metadata": {},
   "outputs": [
    {
     "data": {
      "text/plain": [
       "array(['fear', 'surprise', 'sadness', 'angry', 'negative', 'positive',\n",
       "       'neutral'], dtype=object)"
      ]
     },
     "execution_count": 27,
     "metadata": {},
     "output_type": "execute_result"
    }
   ],
   "source": [
    "mydf['emotion3'].unique()"
   ]
  },
  {
   "cell_type": "code",
   "execution_count": 28,
   "metadata": {},
   "outputs": [],
   "source": [
    "# mydf['emotion3'].replace(['fear_female', 'fear_male'], 'fear', inplace=True)\n",
    "# mydf['emotion3'].replace(['surprise_female', 'surprise_male'], 'surprise', inplace=True)\n",
    "# mydf['emotion3'].replace(['sad_female', 'sad_male'], 'sadness', inplace=True)\n",
    "# mydf['emotion3'].replace(['negative_female', 'negative_male'], 'negetive', inplace=True)\n",
    "# mydf['emotion3'].replace(['positive_female', 'positive_male'], 'positive', inplace=True)\n",
    "# mydf['emotion3'].replace(['neutral_female', 'neutral_male'], 'neutral', inplace=True)"
   ]
  },
  {
   "cell_type": "code",
   "execution_count": 176,
   "metadata": {},
   "outputs": [
    {
     "data": {
      "image/png": "[encoded data removed]",
      "text/plain": [
       "<Figure size 432x288 with 1 Axes>"
      ]
     },
     "metadata": {},
     "output_type": "display_data"
    }
   ],
   "source": [
    "plt.title('Emotions distribution')\n",
    "plt.hist(mydf['emotion3'])\n",
    "# plt.hist(y)\n",
    "plt.show()"
   ]
  },
  {
   "cell_type": "code",
   "execution_count": 44,
   "metadata": {},
   "outputs": [],
   "source": [
    "y = mydf['emotion3'].copy()"
   ]
  },
  {
   "cell_type": "code",
   "execution_count": 45,
   "metadata": {},
   "outputs": [
    {
     "data": {
      "text/html": [
       "<div>\n",
       "<style scoped>\n",
       "    .dataframe tbody tr th:only-of-type {\n",
       "        vertical-align: middle;\n",
       "    }\n",
       "\n",
       "    .dataframe tbody tr th {\n",
       "        vertical-align: top;\n",
       "    }\n",
       "\n",
       "    .dataframe thead th {\n",
       "        text-align: right;\n",
       "    }\n",
       "</style>\n",
       "<table border=\"1\" class=\"dataframe\">\n",
       "  <thead>\n",
       "    <tr style=\"text-align: right;\">\n",
       "      <th></th>\n",
       "      <th>emotion_label</th>\n",
       "      <th>source</th>\n",
       "      <th>actors</th>\n",
       "      <th>path</th>\n",
       "      <th>emotion2</th>\n",
       "      <th>emotion3</th>\n",
       "    </tr>\n",
       "  </thead>\n",
       "  <tbody>\n",
       "    <tr>\n",
       "      <th>0</th>\n",
       "      <td>fear_female</td>\n",
       "      <td>TESS</td>\n",
       "      <td>female</td>\n",
       "      <td>D://emotion_recognition_data\\data3/OAF_Fear/OA...</td>\n",
       "      <td>negative_female</td>\n",
       "      <td>fear</td>\n",
       "    </tr>\n",
       "    <tr>\n",
       "      <th>1</th>\n",
       "      <td>fear_female</td>\n",
       "      <td>TESS</td>\n",
       "      <td>female</td>\n",
       "      <td>D://emotion_recognition_data\\data3/OAF_Fear/OA...</td>\n",
       "      <td>negative_female</td>\n",
       "      <td>fear</td>\n",
       "    </tr>\n",
       "    <tr>\n",
       "      <th>2</th>\n",
       "      <td>fear_female</td>\n",
       "      <td>TESS</td>\n",
       "      <td>female</td>\n",
       "      <td>D://emotion_recognition_data\\data3/OAF_Fear/OA...</td>\n",
       "      <td>negative_female</td>\n",
       "      <td>fear</td>\n",
       "    </tr>\n",
       "    <tr>\n",
       "      <th>3</th>\n",
       "      <td>fear_female</td>\n",
       "      <td>TESS</td>\n",
       "      <td>female</td>\n",
       "      <td>D://emotion_recognition_data\\data3/OAF_Fear/OA...</td>\n",
       "      <td>negative_female</td>\n",
       "      <td>fear</td>\n",
       "    </tr>\n",
       "    <tr>\n",
       "      <th>4</th>\n",
       "      <td>fear_female</td>\n",
       "      <td>TESS</td>\n",
       "      <td>female</td>\n",
       "      <td>D://emotion_recognition_data\\data3/OAF_Fear/OA...</td>\n",
       "      <td>negative_female</td>\n",
       "      <td>fear</td>\n",
       "    </tr>\n",
       "  </tbody>\n",
       "</table>\n",
       "</div>"
      ],
      "text/plain": [
       "  emotion_label source  actors  \\\n",
       "0   fear_female   TESS  female   \n",
       "1   fear_female   TESS  female   \n",
       "2   fear_female   TESS  female   \n",
       "3   fear_female   TESS  female   \n",
       "4   fear_female   TESS  female   \n",
       "\n",
       "                                                path         emotion2 emotion3  \n",
       "0  D://emotion_recognition_data\\data3/OAF_Fear/OA...  negative_female     fear  \n",
       "1  D://emotion_recognition_data\\data3/OAF_Fear/OA...  negative_female     fear  \n",
       "2  D://emotion_recognition_data\\data3/OAF_Fear/OA...  negative_female     fear  \n",
       "3  D://emotion_recognition_data\\data3/OAF_Fear/OA...  negative_female     fear  \n",
       "4  D://emotion_recognition_data\\data3/OAF_Fear/OA...  negative_female     fear  "
      ]
     },
     "execution_count": 45,
     "metadata": {},
     "output_type": "execute_result"
    }
   ],
   "source": [
    "mydf.head()"
   ]
  },
  {
   "cell_type": "code",
   "execution_count": 35,
   "metadata": {},
   "outputs": [
    {
     "data": {
      "text/plain": [
       "(4720,)"
      ]
     },
     "execution_count": 35,
     "metadata": {},
     "output_type": "execute_result"
    }
   ],
   "source": [
    "y.shape"
   ]
  },
  {
   "cell_type": "code",
   "execution_count": 36,
   "metadata": {},
   "outputs": [
    {
     "data": {
      "application/vnd.jupyter.widget-view+json": {
       "model_id": "2c390c2f32b440bcb4e341e3c12d566b",
       "version_major": 2,
       "version_minor": 0
      },
      "text/plain": [
       "  0%|          | 0/4720 [00:00<?, ?it/s]"
      ]
     },
     "metadata": {},
     "output_type": "display_data"
    }
   ],
   "source": [
    "X = []\n",
    "for i in tqdm(mydf['path']):\n",
    "    X.append(librosa.load(i, res_type='kaiser_fast', sr=44000))"
   ]
  },
  {
   "cell_type": "code",
   "execution_count": 46,
   "metadata": {},
   "outputs": [],
   "source": [
    "new_x = []\n",
    "for ind,i in enumerate(X):\n",
    "    new_x.append(i[0])"
   ]
  },
  {
   "cell_type": "code",
   "execution_count": 47,
   "metadata": {},
   "outputs": [],
   "source": [
    "lengths = [len(x) for x in new_x]"
   ]
  },
  {
   "cell_type": "code",
   "execution_count": 48,
   "metadata": {},
   "outputs": [
    {
     "data": {
      "image/png": "[encoded data removed]",
      "text/plain": [
       "<Figure size 432x288 with 1 Axes>"
      ]
     },
     "metadata": {},
     "output_type": "display_data"
    }
   ],
   "source": [
    "sns.boxplot(lengths)\n",
    "plt.show()"
   ]
  },
  {
   "cell_type": "code",
   "execution_count": 49,
   "metadata": {},
   "outputs": [
    {
     "name": "stdout",
     "output_type": "stream",
     "text": [
      "3\n"
     ]
    },
    {
     "data": {
      "image/png": "[encoded data removed]",
      "text/plain": [
       "<Figure size 432x288 with 1 Axes>"
      ]
     },
     "metadata": {},
     "output_type": "display_data"
    }
   ],
   "source": [
    "lengths = np.array(lengths)\n",
    "print((lengths > 300000).sum())\n",
    "new_lengths = lengths[lengths < 300000]\n",
    "\n",
    "sns.boxplot(new_lengths)\n",
    "plt.show()"
   ]
  },
  {
   "cell_type": "code",
   "execution_count": 50,
   "metadata": {},
   "outputs": [
    {
     "name": "stdout",
     "output_type": "stream",
     "text": [
      "120378.5976256095\n"
     ]
    }
   ],
   "source": [
    "print(new_lengths.mean())"
   ]
  },
  {
   "cell_type": "code",
   "execution_count": 186,
   "metadata": {},
   "outputs": [],
   "source": [
    "length_chosen = 120378"
   ]
  },
  {
   "cell_type": "code",
   "execution_count": 52,
   "metadata": {},
   "outputs": [],
   "source": [
    "import math\n",
    "\n",
    "X_new = []\n",
    "y_new = []\n",
    "for ind,i in enumerate(new_x):\n",
    "    if i.shape[0] < 300000:\n",
    "        if i.shape[0] > length_chosen:\n",
    "            new = i[:length_chosen]\n",
    "            X_new.append(new)\n",
    "        elif i.shape[0] < length_chosen:\n",
    "            new = np.pad(i,math.ceil((length_chosen-i.shape[0])/2), mode='median')\n",
    "            X_new.append(new)\n",
    "        else:\n",
    "            X_new.append(i)\n",
    "            \n",
    "        y_new.append(y[ind])\n",
    "            "
   ]
  },
  {
   "cell_type": "code",
   "execution_count": 53,
   "metadata": {},
   "outputs": [
    {
     "name": "stdout",
     "output_type": "stream",
     "text": [
      "(4717,) (4717,)\n"
     ]
    }
   ],
   "source": [
    "X = np.array(X_new)\n",
    "y = np.array(y_new)\n",
    "print(X.shape, y.shape)"
   ]
  },
  {
   "cell_type": "code",
   "execution_count": 75,
   "metadata": {},
   "outputs": [
    {
     "data": {
      "application/vnd.jupyter.widget-view+json": {
       "model_id": "c5ea1a5a0098496c9b1a3b46e533ce70",
       "version_major": 2,
       "version_minor": 0
      },
      "text/plain": [
       "  0%|          | 0/4717 [00:00<?, ?it/s]"
      ]
     },
     "metadata": {},
     "output_type": "display_data"
    }
   ],
   "source": [
    "mfccs = []\n",
    "for i in tqdm(X):\n",
    "    mfcc = librosa.feature.mfcc(y=i, sr=44000, n_mfcc=40)\n",
    "    mfcc = mfcc.T\n",
    "    mfccs.append(mfcc)\n"
   ]
  },
  {
   "cell_type": "code",
   "execution_count": 76,
   "metadata": {},
   "outputs": [
    {
     "data": {
      "text/plain": [
       "(4717, 236, 40)"
      ]
     },
     "execution_count": 76,
     "metadata": {},
     "output_type": "execute_result"
    }
   ],
   "source": [
    "mfccs = np.array(mfccs)\n",
    "mfccs.shape"
   ]
  },
  {
   "cell_type": "code",
   "execution_count": 77,
   "metadata": {},
   "outputs": [
    {
     "data": {
      "text/plain": [
       "{'angry', 'fear', 'negative', 'neutral', 'positive', 'sadness', 'surprise'}"
      ]
     },
     "execution_count": 77,
     "metadata": {},
     "output_type": "execute_result"
    }
   ],
   "source": [
    "set(y)"
   ]
  },
  {
   "cell_type": "markdown",
   "metadata": {},
   "source": [
    "### Save new data:"
   ]
  },
  {
   "cell_type": "code",
   "execution_count": 144,
   "metadata": {},
   "outputs": [],
   "source": [
    "import pickle \n",
    "\n",
    "mfccs2_path = 'D://emotion_recognition_data//mfccs2.pickle'\n",
    "y2_path = 'D://emotion_recognition_data//y2.pickle'\n",
    "\n",
    "# with open(mfccs2_path, 'wb') as f:\n",
    "#     pickle.dump(mfccs,f)\n",
    "    \n",
    "# with open(y2_path, 'wb') as f:\n",
    "#     pickle.dump(y,f)\n",
    "    \n",
    "with open(mfccs2_path, 'rb') as f:\n",
    "    mfccs = pickle.load(f)\n",
    "    \n",
    "with open(y2_path, 'rb') as f:\n",
    "    y = pickle.load(f)"
   ]
  },
  {
   "cell_type": "code",
   "execution_count": 145,
   "metadata": {},
   "outputs": [
    {
     "data": {
      "text/plain": [
       "{'angry', 'fear', 'negative', 'neutral', 'positive', 'sadness', 'surprise'}"
      ]
     },
     "execution_count": 145,
     "metadata": {},
     "output_type": "execute_result"
    }
   ],
   "source": [
    "set(y)"
   ]
  },
  {
   "cell_type": "code",
   "execution_count": 146,
   "metadata": {},
   "outputs": [],
   "source": [
    "y = np.where(y=='positive', 'happy', y)\n",
    "y = np.where(y=='negative', 'disgust', y)"
   ]
  },
  {
   "cell_type": "code",
   "execution_count": 147,
   "metadata": {},
   "outputs": [],
   "source": [
    "emotion_enc = {'fear':0, 'disgust':1, 'neutral':2, 'happy':3, 'sadness':4, 'surprise':5, 'angry':6}"
   ]
  },
  {
   "cell_type": "code",
   "execution_count": 148,
   "metadata": {},
   "outputs": [
    {
     "data": {
      "text/plain": [
       "((3773, 236, 40), (472, 236, 40), (472, 236, 40), (3773,), (472,), (472,))"
      ]
     },
     "execution_count": 148,
     "metadata": {},
     "output_type": "execute_result"
    }
   ],
   "source": [
    "X_train, X_val, y_train, y_val = train_test_split(mfccs, y, test_size=0.2, random_state=12)\n",
    "X_val, X_test, y_val, y_test = train_test_split(X_val, y_val, test_size=0.5, random_state=15)\n",
    "\n",
    "X_train.shape, X_val.shape, X_test.shape, y_train.shape, y_val.shape, y_test.shape"
   ]
  },
  {
   "cell_type": "code",
   "execution_count": 149,
   "metadata": {},
   "outputs": [],
   "source": [
    "y_train = pd.Series(y_train).map(emotion_enc)\n",
    "y_val = pd.Series(y_val).map(emotion_enc)\n",
    "y_test = pd.Series(y_test).map(emotion_enc)"
   ]
  },
  {
   "cell_type": "code",
   "execution_count": 150,
   "metadata": {},
   "outputs": [
    {
     "data": {
      "text/plain": [
       "(array([1, 0, 3, 2, 6, 4, 5], dtype=int64),\n",
       " array([2, 3, 0, 6, 4, 1, 5], dtype=int64),\n",
       " array([5, 3, 0, 1, 6, 4, 2], dtype=int64))"
      ]
     },
     "execution_count": 150,
     "metadata": {},
     "output_type": "execute_result"
    }
   ],
   "source": [
    "y_train.unique(), y_test.unique(), y_val.unique()"
   ]
  },
  {
   "cell_type": "code",
   "execution_count": 175,
   "metadata": {},
   "outputs": [
    {
     "name": "stdout",
     "output_type": "stream",
     "text": [
      "Model: \"sequential_3\"\n",
      "_________________________________________________________________\n",
      "Layer (type)                 Output Shape              Param #   \n",
      "=================================================================\n",
      "conv1d_6 (Conv1D)            (None, 236, 256)          25856     \n",
      "_________________________________________________________________\n",
      "activation_9 (Activation)    (None, 236, 256)          0         \n",
      "_________________________________________________________________\n",
      "max_pooling1d_6 (MaxPooling1 (None, 29, 256)           0         \n",
      "_________________________________________________________________\n",
      "dropout_6 (Dropout)          (None, 29, 256)           0         \n",
      "_________________________________________________________________\n",
      "conv1d_7 (Conv1D)            (None, 29, 128)           163968    \n",
      "_________________________________________________________________\n",
      "activation_10 (Activation)   (None, 29, 128)           0         \n",
      "_________________________________________________________________\n",
      "max_pooling1d_7 (MaxPooling1 (None, 7, 128)            0         \n",
      "_________________________________________________________________\n",
      "dropout_7 (Dropout)          (None, 7, 128)            0         \n",
      "_________________________________________________________________\n",
      "flatten_3 (Flatten)          (None, 896)               0         \n",
      "_________________________________________________________________\n",
      "dense_6 (Dense)              (None, 64)                57408     \n",
      "_________________________________________________________________\n",
      "dense_7 (Dense)              (None, 7)                 455       \n",
      "_________________________________________________________________\n",
      "activation_11 (Activation)   (None, 7)                 0         \n",
      "=================================================================\n",
      "Total params: 247,687\n",
      "Trainable params: 247,687\n",
      "Non-trainable params: 0\n",
      "_________________________________________________________________\n"
     ]
    }
   ],
   "source": [
    "model3 = Sequential()\n",
    "\n",
    "model3.add(layers.Conv1D(256, 5,padding='same',\n",
    "                 input_shape=(236,40)))\n",
    "model3.add(layers.Activation('relu'))\n",
    "model3.add(layers.MaxPooling1D(pool_size=(8)))\n",
    "model3.add(layers.Dropout(0.2))\n",
    "\n",
    "model3.add(layers.Conv1D(128, 5,padding='same'))\n",
    "model3.add(layers.Activation('relu'))\n",
    "model3.add(layers.MaxPooling1D(pool_size=(4)))\n",
    "model3.add(layers.Dropout(0.1))\n",
    "\n",
    "model3.add(layers.Flatten())\n",
    "model3.add(layers.Dense(64))\n",
    "model3.add(layers.Dense(7))\n",
    "model3.add(layers.Activation('softmax'))\n",
    "\n",
    "model3.summary()\n"
   ]
  },
  {
   "cell_type": "code",
   "execution_count": 85,
   "metadata": {},
   "outputs": [],
   "source": [
    "# weight_path2 = 'd://ITC//final_project_data//best_weights3.hdf5'\n",
    "weight_path2 = 'D://emotion_recognition_data//best_weights2.hdf5'\n",
    "\n",
    "reduce_lr = tf.keras.callbacks.ReduceLROnPlateau(monitor='val_accuracy', \n",
    "                                                 factor=0.5, patience=4, \n",
    "                                                 verbose=1, mode='max', \n",
    "                                                 min_lr=0.00001)\n",
    "\n",
    "early_stop = tf.keras.callbacks.EarlyStopping(monitor='val_loss', patience=45, \n",
    "                                              verbose=1)\n",
    "\n",
    "model_checkpoint2 = tf.keras.callbacks.ModelCheckpoint(filepath=weight_path2, \n",
    "                                                      save_weights_only=True, \n",
    "                                                      monitor='val_accuracy', \n",
    "                                                      mode='max', \n",
    "                                                      save_best_only=True)\n"
   ]
  },
  {
   "cell_type": "code",
   "execution_count": 86,
   "metadata": {
    "scrolled": true
   },
   "outputs": [
    {
     "name": "stdout",
     "output_type": "stream",
     "text": [
      "Epoch 1/500\n",
      "236/236 [==============================] - 17s 31ms/step - loss: 25.0446 - accuracy: 0.2995 - val_loss: 1.0389 - val_accuracy: 0.5847\n",
      "Epoch 2/500\n",
      "236/236 [==============================] - 7s 30ms/step - loss: 1.0493 - accuracy: 0.6010 - val_loss: 0.8458 - val_accuracy: 0.6801\n",
      "Epoch 3/500\n",
      "236/236 [==============================] - 7s 30ms/step - loss: 0.9008 - accuracy: 0.6405 - val_loss: 0.7839 - val_accuracy: 0.6801\n",
      "Epoch 4/500\n",
      "236/236 [==============================] - 7s 29ms/step - loss: 0.8338 - accuracy: 0.6835 - val_loss: 0.7683 - val_accuracy: 0.6843\n",
      "Epoch 5/500\n",
      "236/236 [==============================] - 7s 30ms/step - loss: 0.7984 - accuracy: 0.6956 - val_loss: 0.7995 - val_accuracy: 0.6949\n",
      "Epoch 6/500\n",
      "236/236 [==============================] - 7s 29ms/step - loss: 0.7747 - accuracy: 0.7052 - val_loss: 0.7707 - val_accuracy: 0.6864\n",
      "Epoch 7/500\n",
      "236/236 [==============================] - 7s 29ms/step - loss: 0.7779 - accuracy: 0.6999 - val_loss: 0.7753 - val_accuracy: 0.7013\n",
      "Epoch 8/500\n",
      "236/236 [==============================] - 7s 30ms/step - loss: 0.7558 - accuracy: 0.7132 - val_loss: 0.7933 - val_accuracy: 0.6780\n",
      "Epoch 9/500\n",
      "236/236 [==============================] - 7s 30ms/step - loss: 0.7591 - accuracy: 0.7069 - val_loss: 0.7518 - val_accuracy: 0.7097\n",
      "Epoch 10/500\n",
      "236/236 [==============================] - 7s 30ms/step - loss: 0.7697 - accuracy: 0.7111 - val_loss: 0.7753 - val_accuracy: 0.6928\n",
      "Epoch 11/500\n",
      "236/236 [==============================] - 7s 30ms/step - loss: 0.7853 - accuracy: 0.7051 - val_loss: 0.7396 - val_accuracy: 0.6928\n",
      "Epoch 12/500\n",
      "236/236 [==============================] - 7s 29ms/step - loss: 0.6943 - accuracy: 0.7254 - val_loss: 0.7116 - val_accuracy: 0.7055\n",
      "Epoch 13/500\n",
      "236/236 [==============================] - 7s 29ms/step - loss: 0.7423 - accuracy: 0.7178 - val_loss: 0.7829 - val_accuracy: 0.6886\n",
      "\n",
      "Epoch 00013: ReduceLROnPlateau reducing learning rate to 0.0005000000237487257.\n",
      "Epoch 14/500\n",
      "236/236 [==============================] - 7s 29ms/step - loss: 0.6842 - accuracy: 0.7385 - val_loss: 0.6685 - val_accuracy: 0.7309\n",
      "Epoch 15/500\n",
      "236/236 [==============================] - 7s 29ms/step - loss: 0.5915 - accuracy: 0.7671 - val_loss: 0.6464 - val_accuracy: 0.7415\n",
      "Epoch 16/500\n",
      "236/236 [==============================] - 7s 29ms/step - loss: 0.5493 - accuracy: 0.7864 - val_loss: 0.6354 - val_accuracy: 0.7521\n",
      "Epoch 17/500\n",
      "236/236 [==============================] - 7s 29ms/step - loss: 0.5602 - accuracy: 0.7975 - val_loss: 0.6640 - val_accuracy: 0.7606\n",
      "Epoch 18/500\n",
      "236/236 [==============================] - 7s 29ms/step - loss: 0.5622 - accuracy: 0.7792 - val_loss: 0.6716 - val_accuracy: 0.7542\n",
      "Epoch 19/500\n",
      "236/236 [==============================] - 7s 29ms/step - loss: 0.5063 - accuracy: 0.8044 - val_loss: 0.6115 - val_accuracy: 0.7691\n",
      "Epoch 20/500\n",
      "236/236 [==============================] - 7s 29ms/step - loss: 0.5192 - accuracy: 0.8101 - val_loss: 0.6780 - val_accuracy: 0.7394\n",
      "Epoch 21/500\n",
      "236/236 [==============================] - 7s 29ms/step - loss: 0.4991 - accuracy: 0.8025 - val_loss: 0.6142 - val_accuracy: 0.7627\n",
      "Epoch 22/500\n",
      "236/236 [==============================] - 7s 29ms/step - loss: 0.4501 - accuracy: 0.8296 - val_loss: 0.6037 - val_accuracy: 0.7627\n",
      "Epoch 23/500\n",
      "236/236 [==============================] - 7s 29ms/step - loss: 0.4817 - accuracy: 0.8089 - val_loss: 0.6433 - val_accuracy: 0.7627\n",
      "\n",
      "Epoch 00023: ReduceLROnPlateau reducing learning rate to 0.0002500000118743628.\n",
      "Epoch 24/500\n",
      "236/236 [==============================] - 7s 30ms/step - loss: 0.4482 - accuracy: 0.8224 - val_loss: 0.6400 - val_accuracy: 0.7987\n",
      "Epoch 25/500\n",
      "236/236 [==============================] - 7s 29ms/step - loss: 0.3585 - accuracy: 0.8595 - val_loss: 0.5814 - val_accuracy: 0.7797\n",
      "Epoch 26/500\n",
      "236/236 [==============================] - 7s 30ms/step - loss: 0.3491 - accuracy: 0.8735 - val_loss: 0.6001 - val_accuracy: 0.7775\n",
      "Epoch 27/500\n",
      "236/236 [==============================] - 7s 29ms/step - loss: 0.3156 - accuracy: 0.8714 - val_loss: 0.5830 - val_accuracy: 0.7966\n",
      "Epoch 28/500\n",
      "236/236 [==============================] - 7s 29ms/step - loss: 0.3300 - accuracy: 0.8812 - val_loss: 0.5685 - val_accuracy: 0.7903\n",
      "\n",
      "Epoch 00028: ReduceLROnPlateau reducing learning rate to 0.0001250000059371814.\n",
      "Epoch 29/500\n",
      "236/236 [==============================] - 7s 29ms/step - loss: 0.2718 - accuracy: 0.8955 - val_loss: 0.5700 - val_accuracy: 0.7945\n",
      "Epoch 30/500\n",
      "236/236 [==============================] - 7s 29ms/step - loss: 0.2691 - accuracy: 0.8994 - val_loss: 0.5625 - val_accuracy: 0.7903\n",
      "Epoch 31/500\n",
      "236/236 [==============================] - 7s 29ms/step - loss: 0.2661 - accuracy: 0.9019 - val_loss: 0.5451 - val_accuracy: 0.8051\n",
      "Epoch 32/500\n",
      "236/236 [==============================] - 7s 30ms/step - loss: 0.2439 - accuracy: 0.9029 - val_loss: 0.5271 - val_accuracy: 0.8136\n",
      "Epoch 33/500\n",
      "236/236 [==============================] - 7s 30ms/step - loss: 0.2410 - accuracy: 0.9120 - val_loss: 0.5190 - val_accuracy: 0.8157\n",
      "Epoch 34/500\n",
      "236/236 [==============================] - 7s 30ms/step - loss: 0.1878 - accuracy: 0.9334 - val_loss: 0.5199 - val_accuracy: 0.8347\n",
      "Epoch 35/500\n",
      "236/236 [==============================] - 7s 28ms/step - loss: 0.1876 - accuracy: 0.9286 - val_loss: 0.5473 - val_accuracy: 0.8263\n",
      "Epoch 36/500\n",
      "236/236 [==============================] - 7s 30ms/step - loss: 0.1812 - accuracy: 0.9379 - val_loss: 0.4991 - val_accuracy: 0.8305\n",
      "Epoch 37/500\n",
      "236/236 [==============================] - 7s 31ms/step - loss: 0.1627 - accuracy: 0.9454 - val_loss: 0.5188 - val_accuracy: 0.8347\n",
      "Epoch 38/500\n",
      "236/236 [==============================] - 6s 27ms/step - loss: 0.1717 - accuracy: 0.9403 - val_loss: 0.5183 - val_accuracy: 0.8390\n",
      "Epoch 39/500\n",
      "236/236 [==============================] - 6s 27ms/step - loss: 0.1513 - accuracy: 0.9483 - val_loss: 0.4956 - val_accuracy: 0.8242\n",
      "Epoch 40/500\n",
      "236/236 [==============================] - 6s 27ms/step - loss: 0.1354 - accuracy: 0.9507 - val_loss: 0.4977 - val_accuracy: 0.8517\n",
      "Epoch 41/500\n",
      "236/236 [==============================] - 6s 27ms/step - loss: 0.1385 - accuracy: 0.9507 - val_loss: 0.5022 - val_accuracy: 0.8263\n",
      "Epoch 42/500\n",
      "236/236 [==============================] - 7s 28ms/step - loss: 0.1315 - accuracy: 0.9554 - val_loss: 0.5184 - val_accuracy: 0.8326\n",
      "Epoch 43/500\n",
      "236/236 [==============================] - 7s 31ms/step - loss: 0.1157 - accuracy: 0.9561 - val_loss: 0.5960 - val_accuracy: 0.8326\n",
      "Epoch 44/500\n",
      "236/236 [==============================] - 7s 29ms/step - loss: 0.1129 - accuracy: 0.9596 - val_loss: 0.4969 - val_accuracy: 0.8581\n",
      "Epoch 45/500\n",
      "236/236 [==============================] - 7s 29ms/step - loss: 0.0994 - accuracy: 0.9649 - val_loss: 0.4967 - val_accuracy: 0.8538\n",
      "Epoch 46/500\n",
      "236/236 [==============================] - 7s 29ms/step - loss: 0.0884 - accuracy: 0.9664 - val_loss: 0.5295 - val_accuracy: 0.8496\n",
      "Epoch 47/500\n",
      "236/236 [==============================] - 7s 30ms/step - loss: 0.0948 - accuracy: 0.9683 - val_loss: 0.5058 - val_accuracy: 0.8538\n",
      "Epoch 48/500\n",
      "236/236 [==============================] - 7s 28ms/step - loss: 0.0893 - accuracy: 0.9732 - val_loss: 0.5418 - val_accuracy: 0.8538\n",
      "\n",
      "Epoch 00048: ReduceLROnPlateau reducing learning rate to 6.25000029685907e-05.\n",
      "Epoch 49/500\n",
      "236/236 [==============================] - 7s 30ms/step - loss: 0.0861 - accuracy: 0.9722 - val_loss: 0.5222 - val_accuracy: 0.8623\n",
      "Epoch 50/500\n",
      "236/236 [==============================] - 7s 29ms/step - loss: 0.0583 - accuracy: 0.9775 - val_loss: 0.5406 - val_accuracy: 0.8665\n",
      "Epoch 51/500\n",
      "236/236 [==============================] - 7s 29ms/step - loss: 0.0497 - accuracy: 0.9851 - val_loss: 0.5019 - val_accuracy: 0.8623\n",
      "Epoch 52/500\n",
      "236/236 [==============================] - 7s 29ms/step - loss: 0.0492 - accuracy: 0.9859 - val_loss: 0.5434 - val_accuracy: 0.8581\n",
      "Epoch 53/500\n",
      "236/236 [==============================] - 7s 30ms/step - loss: 0.0440 - accuracy: 0.9843 - val_loss: 0.5249 - val_accuracy: 0.8602\n",
      "Epoch 54/500\n",
      "236/236 [==============================] - 7s 30ms/step - loss: 0.0362 - accuracy: 0.9879 - val_loss: 0.5107 - val_accuracy: 0.8538\n",
      "\n",
      "Epoch 00054: ReduceLROnPlateau reducing learning rate to 3.125000148429535e-05.\n",
      "Epoch 55/500\n",
      "236/236 [==============================] - 7s 30ms/step - loss: 0.0402 - accuracy: 0.9895 - val_loss: 0.5007 - val_accuracy: 0.8665\n",
      "Epoch 56/500\n",
      "236/236 [==============================] - 7s 31ms/step - loss: 0.0330 - accuracy: 0.9899 - val_loss: 0.4881 - val_accuracy: 0.8708\n",
      "Epoch 57/500\n",
      "236/236 [==============================] - 8s 34ms/step - loss: 0.0350 - accuracy: 0.9906 - val_loss: 0.4971 - val_accuracy: 0.8686\n",
      "Epoch 58/500\n",
      "236/236 [==============================] - 8s 34ms/step - loss: 0.0292 - accuracy: 0.9936 - val_loss: 0.5057 - val_accuracy: 0.8665\n",
      "Epoch 59/500\n",
      "236/236 [==============================] - 8s 35ms/step - loss: 0.0275 - accuracy: 0.9890 - val_loss: 0.4988 - val_accuracy: 0.8686\n",
      "Epoch 60/500\n",
      "236/236 [==============================] - 8s 33ms/step - loss: 0.0358 - accuracy: 0.9875 - val_loss: 0.4997 - val_accuracy: 0.8686\n",
      "\n",
      "Epoch 00060: ReduceLROnPlateau reducing learning rate to 1.5625000742147677e-05.\n",
      "Epoch 61/500\n",
      "236/236 [==============================] - 8s 34ms/step - loss: 0.0416 - accuracy: 0.9898 - val_loss: 0.5122 - val_accuracy: 0.8792\n",
      "Epoch 62/500\n",
      "236/236 [==============================] - 8s 33ms/step - loss: 0.0352 - accuracy: 0.9910 - val_loss: 0.4874 - val_accuracy: 0.8750\n",
      "Epoch 63/500\n",
      "236/236 [==============================] - 8s 35ms/step - loss: 0.0306 - accuracy: 0.9921 - val_loss: 0.4856 - val_accuracy: 0.8686\n",
      "Epoch 64/500\n",
      "236/236 [==============================] - 8s 33ms/step - loss: 0.0262 - accuracy: 0.9929 - val_loss: 0.4865 - val_accuracy: 0.8792\n",
      "Epoch 65/500\n",
      "236/236 [==============================] - 8s 33ms/step - loss: 0.0274 - accuracy: 0.9909 - val_loss: 0.4927 - val_accuracy: 0.8729\n",
      "\n",
      "Epoch 00065: ReduceLROnPlateau reducing learning rate to 1e-05.\n",
      "Epoch 66/500\n",
      "236/236 [==============================] - 9s 38ms/step - loss: 0.0241 - accuracy: 0.9936 - val_loss: 0.4857 - val_accuracy: 0.8708\n",
      "Epoch 67/500\n",
      "236/236 [==============================] - 9s 39ms/step - loss: 0.0200 - accuracy: 0.9950 - val_loss: 0.4902 - val_accuracy: 0.8729\n",
      "Epoch 68/500\n",
      "236/236 [==============================] - 9s 36ms/step - loss: 0.0259 - accuracy: 0.9926 - val_loss: 0.4724 - val_accuracy: 0.8729\n",
      "Epoch 69/500\n",
      "236/236 [==============================] - 8s 33ms/step - loss: 0.0230 - accuracy: 0.9959 - val_loss: 0.4842 - val_accuracy: 0.8771\n",
      "Epoch 70/500\n",
      "236/236 [==============================] - 7s 30ms/step - loss: 0.0198 - accuracy: 0.9956 - val_loss: 0.4742 - val_accuracy: 0.8729\n",
      "Epoch 71/500\n",
      "236/236 [==============================] - 7s 29ms/step - loss: 0.0326 - accuracy: 0.9863 - val_loss: 0.4843 - val_accuracy: 0.8729\n",
      "Epoch 72/500\n",
      "236/236 [==============================] - 7s 30ms/step - loss: 0.0221 - accuracy: 0.9926 - val_loss: 0.4796 - val_accuracy: 0.8708\n",
      "Epoch 73/500\n",
      "236/236 [==============================] - 7s 30ms/step - loss: 0.0372 - accuracy: 0.9894 - val_loss: 0.4833 - val_accuracy: 0.8686\n",
      "Epoch 74/500\n",
      "236/236 [==============================] - 8s 32ms/step - loss: 0.0247 - accuracy: 0.9937 - val_loss: 0.4874 - val_accuracy: 0.8750\n",
      "Epoch 75/500\n",
      "236/236 [==============================] - 7s 31ms/step - loss: 0.0250 - accuracy: 0.9899 - val_loss: 0.4841 - val_accuracy: 0.8729\n",
      "Epoch 76/500\n",
      "236/236 [==============================] - 7s 31ms/step - loss: 0.0261 - accuracy: 0.9918 - val_loss: 0.5051 - val_accuracy: 0.8835\n",
      "Epoch 77/500\n",
      "236/236 [==============================] - 7s 31ms/step - loss: 0.0277 - accuracy: 0.9921 - val_loss: 0.5045 - val_accuracy: 0.8665\n",
      "Epoch 78/500\n",
      "236/236 [==============================] - 7s 31ms/step - loss: 0.0314 - accuracy: 0.9875 - val_loss: 0.4854 - val_accuracy: 0.8750\n",
      "Epoch 79/500\n",
      "236/236 [==============================] - 7s 31ms/step - loss: 0.0233 - accuracy: 0.9931 - val_loss: 0.4804 - val_accuracy: 0.8771\n",
      "Epoch 80/500\n",
      "236/236 [==============================] - 8s 32ms/step - loss: 0.0237 - accuracy: 0.9931 - val_loss: 0.4895 - val_accuracy: 0.8708\n",
      "Epoch 81/500\n",
      "236/236 [==============================] - 7s 31ms/step - loss: 0.0210 - accuracy: 0.9931 - val_loss: 0.4977 - val_accuracy: 0.8750\n",
      "Epoch 82/500\n",
      "236/236 [==============================] - 8s 33ms/step - loss: 0.0227 - accuracy: 0.9933 - val_loss: 0.4939 - val_accuracy: 0.8729\n",
      "Epoch 83/500\n",
      "236/236 [==============================] - 8s 33ms/step - loss: 0.0252 - accuracy: 0.9924 - val_loss: 0.4852 - val_accuracy: 0.8729\n",
      "Epoch 84/500\n",
      "236/236 [==============================] - 8s 33ms/step - loss: 0.0193 - accuracy: 0.9947 - val_loss: 0.4922 - val_accuracy: 0.8686\n",
      "Epoch 85/500\n",
      "236/236 [==============================] - 8s 34ms/step - loss: 0.0286 - accuracy: 0.9920 - val_loss: 0.4984 - val_accuracy: 0.8708\n",
      "Epoch 86/500\n",
      "236/236 [==============================] - 8s 34ms/step - loss: 0.0163 - accuracy: 0.9970 - val_loss: 0.4963 - val_accuracy: 0.8750\n",
      "Epoch 87/500\n",
      "236/236 [==============================] - 8s 34ms/step - loss: 0.0300 - accuracy: 0.9912 - val_loss: 0.4931 - val_accuracy: 0.8792\n",
      "Epoch 88/500\n",
      "236/236 [==============================] - 7s 31ms/step - loss: 0.0273 - accuracy: 0.9930 - val_loss: 0.5073 - val_accuracy: 0.8686\n",
      "Epoch 89/500\n",
      "236/236 [==============================] - 7s 31ms/step - loss: 0.0239 - accuracy: 0.9937 - val_loss: 0.4948 - val_accuracy: 0.8729\n",
      "Epoch 90/500\n",
      "236/236 [==============================] - 7s 28ms/step - loss: 0.0220 - accuracy: 0.9931 - val_loss: 0.4922 - val_accuracy: 0.8729\n",
      "Epoch 91/500\n",
      "236/236 [==============================] - 6s 27ms/step - loss: 0.0248 - accuracy: 0.9891 - val_loss: 0.5108 - val_accuracy: 0.8771\n",
      "Epoch 92/500\n",
      "236/236 [==============================] - 6s 27ms/step - loss: 0.0202 - accuracy: 0.9932 - val_loss: 0.5038 - val_accuracy: 0.8729\n",
      "Epoch 93/500\n",
      "236/236 [==============================] - 6s 27ms/step - loss: 0.0181 - accuracy: 0.9947 - val_loss: 0.4883 - val_accuracy: 0.8771\n",
      "Epoch 94/500\n",
      "236/236 [==============================] - 6s 27ms/step - loss: 0.0211 - accuracy: 0.9920 - val_loss: 0.4874 - val_accuracy: 0.8792\n",
      "Epoch 95/500\n",
      "236/236 [==============================] - 6s 27ms/step - loss: 0.0207 - accuracy: 0.9960 - val_loss: 0.4850 - val_accuracy: 0.8792\n",
      "Epoch 96/500\n",
      "236/236 [==============================] - 7s 28ms/step - loss: 0.0259 - accuracy: 0.9928 - val_loss: 0.4869 - val_accuracy: 0.8771\n",
      "Epoch 97/500\n",
      "236/236 [==============================] - 7s 28ms/step - loss: 0.0211 - accuracy: 0.9940 - val_loss: 0.5040 - val_accuracy: 0.8750\n",
      "Epoch 98/500\n",
      "236/236 [==============================] - 6s 27ms/step - loss: 0.0158 - accuracy: 0.9958 - val_loss: 0.4966 - val_accuracy: 0.8729\n",
      "Epoch 99/500\n",
      "236/236 [==============================] - 6s 27ms/step - loss: 0.0233 - accuracy: 0.9908 - val_loss: 0.4880 - val_accuracy: 0.8750\n",
      "Epoch 100/500\n",
      "236/236 [==============================] - 7s 28ms/step - loss: 0.0213 - accuracy: 0.9954 - val_loss: 0.4780 - val_accuracy: 0.8750\n",
      "Epoch 101/500\n",
      "236/236 [==============================] - 6s 27ms/step - loss: 0.0156 - accuracy: 0.9959 - val_loss: 0.4972 - val_accuracy: 0.8729\n",
      "Epoch 102/500\n",
      "236/236 [==============================] - 7s 28ms/step - loss: 0.0174 - accuracy: 0.9954 - val_loss: 0.4914 - val_accuracy: 0.8814\n",
      "Epoch 103/500\n",
      "236/236 [==============================] - 6s 27ms/step - loss: 0.0197 - accuracy: 0.9943 - val_loss: 0.4987 - val_accuracy: 0.8792\n",
      "Epoch 104/500\n",
      "236/236 [==============================] - 6s 28ms/step - loss: 0.0184 - accuracy: 0.9959 - val_loss: 0.4883 - val_accuracy: 0.8771\n",
      "Epoch 105/500\n",
      "236/236 [==============================] - 6s 27ms/step - loss: 0.0244 - accuracy: 0.9904 - val_loss: 0.5055 - val_accuracy: 0.8729\n",
      "Epoch 106/500\n",
      "236/236 [==============================] - 6s 27ms/step - loss: 0.0219 - accuracy: 0.9936 - val_loss: 0.5025 - val_accuracy: 0.8729\n",
      "Epoch 107/500\n",
      "236/236 [==============================] - 7s 28ms/step - loss: 0.0220 - accuracy: 0.9937 - val_loss: 0.4942 - val_accuracy: 0.8750\n",
      "Epoch 108/500\n",
      "236/236 [==============================] - 7s 28ms/step - loss: 0.0250 - accuracy: 0.9952 - val_loss: 0.4812 - val_accuracy: 0.8708\n",
      "Epoch 109/500\n",
      "236/236 [==============================] - 6s 27ms/step - loss: 0.0197 - accuracy: 0.9942 - val_loss: 0.4861 - val_accuracy: 0.8729\n",
      "Epoch 110/500\n",
      "236/236 [==============================] - 6s 27ms/step - loss: 0.0186 - accuracy: 0.9946 - val_loss: 0.4721 - val_accuracy: 0.8686\n",
      "Epoch 111/500\n",
      "236/236 [==============================] - 6s 27ms/step - loss: 0.0234 - accuracy: 0.9931 - val_loss: 0.4723 - val_accuracy: 0.8750\n",
      "Epoch 112/500\n",
      "236/236 [==============================] - 6s 27ms/step - loss: 0.0163 - accuracy: 0.9953 - val_loss: 0.5041 - val_accuracy: 0.8750\n",
      "Epoch 113/500\n",
      "236/236 [==============================] - 6s 27ms/step - loss: 0.0183 - accuracy: 0.9948 - val_loss: 0.5035 - val_accuracy: 0.8771\n",
      "Epoch 114/500\n",
      "236/236 [==============================] - 6s 27ms/step - loss: 0.0163 - accuracy: 0.9966 - val_loss: 0.5063 - val_accuracy: 0.8708\n",
      "Epoch 115/500\n",
      "236/236 [==============================] - 6s 27ms/step - loss: 0.0205 - accuracy: 0.9936 - val_loss: 0.5047 - val_accuracy: 0.8729\n",
      "Epoch 116/500\n",
      "236/236 [==============================] - 6s 27ms/step - loss: 0.0155 - accuracy: 0.9950 - val_loss: 0.5233 - val_accuracy: 0.8750\n",
      "Epoch 117/500\n",
      "236/236 [==============================] - 7s 28ms/step - loss: 0.0173 - accuracy: 0.9930 - val_loss: 0.5019 - val_accuracy: 0.8686\n",
      "Epoch 118/500\n",
      "236/236 [==============================] - 7s 28ms/step - loss: 0.0176 - accuracy: 0.9935 - val_loss: 0.4891 - val_accuracy: 0.8708\n",
      "Epoch 119/500\n",
      "236/236 [==============================] - 7s 28ms/step - loss: 0.0190 - accuracy: 0.9948 - val_loss: 0.4978 - val_accuracy: 0.8686\n",
      "Epoch 120/500\n",
      "236/236 [==============================] - 7s 28ms/step - loss: 0.0172 - accuracy: 0.9934 - val_loss: 0.4890 - val_accuracy: 0.8792\n",
      "Epoch 121/500\n",
      "236/236 [==============================] - 7s 29ms/step - loss: 0.0248 - accuracy: 0.9909 - val_loss: 0.4907 - val_accuracy: 0.8750\n",
      "Epoch 122/500\n",
      "236/236 [==============================] - 7s 30ms/step - loss: 0.0247 - accuracy: 0.9939 - val_loss: 0.4881 - val_accuracy: 0.8792\n",
      "Epoch 123/500\n",
      "236/236 [==============================] - 7s 31ms/step - loss: 0.0187 - accuracy: 0.9932 - val_loss: 0.4850 - val_accuracy: 0.8750\n",
      "Epoch 124/500\n",
      "236/236 [==============================] - 7s 29ms/step - loss: 0.0150 - accuracy: 0.9969 - val_loss: 0.4828 - val_accuracy: 0.8729\n",
      "Epoch 125/500\n",
      "236/236 [==============================] - 7s 29ms/step - loss: 0.0203 - accuracy: 0.9923 - val_loss: 0.4834 - val_accuracy: 0.8750\n",
      "Epoch 126/500\n",
      "236/236 [==============================] - 7s 29ms/step - loss: 0.0268 - accuracy: 0.9913 - val_loss: 0.4833 - val_accuracy: 0.8792\n",
      "Epoch 127/500\n",
      "236/236 [==============================] - 7s 30ms/step - loss: 0.0208 - accuracy: 0.9936 - val_loss: 0.4900 - val_accuracy: 0.8750\n",
      "Epoch 128/500\n",
      "236/236 [==============================] - 7s 29ms/step - loss: 0.0146 - accuracy: 0.9959 - val_loss: 0.4874 - val_accuracy: 0.8792\n",
      "Epoch 129/500\n",
      "236/236 [==============================] - 7s 30ms/step - loss: 0.0201 - accuracy: 0.9948 - val_loss: 0.4974 - val_accuracy: 0.8729\n",
      "Epoch 130/500\n",
      "236/236 [==============================] - 7s 32ms/step - loss: 0.0146 - accuracy: 0.9944 - val_loss: 0.4928 - val_accuracy: 0.8814\n",
      "Epoch 131/500\n",
      "236/236 [==============================] - 7s 31ms/step - loss: 0.0163 - accuracy: 0.9959 - val_loss: 0.4822 - val_accuracy: 0.8771\n",
      "Epoch 132/500\n",
      "236/236 [==============================] - 7s 31ms/step - loss: 0.0113 - accuracy: 0.9961 - val_loss: 0.4892 - val_accuracy: 0.8856\n",
      "Epoch 133/500\n",
      "236/236 [==============================] - 6s 27ms/step - loss: 0.0146 - accuracy: 0.9971 - val_loss: 0.4987 - val_accuracy: 0.8814\n",
      "Epoch 134/500\n",
      "236/236 [==============================] - 6s 27ms/step - loss: 0.0165 - accuracy: 0.9947 - val_loss: 0.5035 - val_accuracy: 0.8856\n",
      "Epoch 135/500\n",
      "236/236 [==============================] - 7s 28ms/step - loss: 0.0130 - accuracy: 0.9962 - val_loss: 0.4876 - val_accuracy: 0.8792\n",
      "Epoch 136/500\n",
      "236/236 [==============================] - 6s 27ms/step - loss: 0.0164 - accuracy: 0.9947 - val_loss: 0.5112 - val_accuracy: 0.8835\n",
      "Epoch 137/500\n",
      "236/236 [==============================] - 6s 27ms/step - loss: 0.0147 - accuracy: 0.9967 - val_loss: 0.4838 - val_accuracy: 0.8814\n",
      "Epoch 138/500\n",
      "236/236 [==============================] - 6s 27ms/step - loss: 0.0158 - accuracy: 0.9945 - val_loss: 0.4969 - val_accuracy: 0.8835\n",
      "Epoch 139/500\n",
      "236/236 [==============================] - 7s 29ms/step - loss: 0.0151 - accuracy: 0.9965 - val_loss: 0.4907 - val_accuracy: 0.8835\n",
      "Epoch 140/500\n",
      "236/236 [==============================] - 6s 27ms/step - loss: 0.0121 - accuracy: 0.9964 - val_loss: 0.4837 - val_accuracy: 0.8792\n",
      "Epoch 141/500\n",
      "236/236 [==============================] - 6s 26ms/step - loss: 0.0109 - accuracy: 0.9977 - val_loss: 0.4910 - val_accuracy: 0.8835\n",
      "Epoch 142/500\n",
      "236/236 [==============================] - 6s 27ms/step - loss: 0.0199 - accuracy: 0.9945 - val_loss: 0.4902 - val_accuracy: 0.8792\n",
      "Epoch 143/500\n",
      "236/236 [==============================] - 7s 28ms/step - loss: 0.0145 - accuracy: 0.9954 - val_loss: 0.4914 - val_accuracy: 0.8750\n",
      "Epoch 144/500\n",
      "236/236 [==============================] - 7s 30ms/step - loss: 0.0108 - accuracy: 0.9976 - val_loss: 0.5095 - val_accuracy: 0.8792\n",
      "Epoch 145/500\n",
      "236/236 [==============================] - 7s 29ms/step - loss: 0.0080 - accuracy: 0.9986 - val_loss: 0.4939 - val_accuracy: 0.8835\n",
      "Epoch 146/500\n",
      "236/236 [==============================] - 8s 35ms/step - loss: 0.0171 - accuracy: 0.9948 - val_loss: 0.4943 - val_accuracy: 0.8814\n",
      "Epoch 147/500\n",
      "236/236 [==============================] - 8s 34ms/step - loss: 0.0200 - accuracy: 0.9939 - val_loss: 0.4930 - val_accuracy: 0.8877\n",
      "Epoch 148/500\n",
      "236/236 [==============================] - 7s 32ms/step - loss: 0.0132 - accuracy: 0.9963 - val_loss: 0.4905 - val_accuracy: 0.8814\n",
      "Epoch 149/500\n",
      "236/236 [==============================] - 7s 29ms/step - loss: 0.0151 - accuracy: 0.9949 - val_loss: 0.4737 - val_accuracy: 0.8835\n",
      "Epoch 150/500\n",
      "236/236 [==============================] - 7s 30ms/step - loss: 0.0133 - accuracy: 0.9952 - val_loss: 0.4843 - val_accuracy: 0.8856\n",
      "Epoch 151/500\n",
      "236/236 [==============================] - 7s 31ms/step - loss: 0.0131 - accuracy: 0.9976 - val_loss: 0.4786 - val_accuracy: 0.8856\n",
      "Epoch 152/500\n",
      "236/236 [==============================] - 7s 31ms/step - loss: 0.0159 - accuracy: 0.9953 - val_loss: 0.4675 - val_accuracy: 0.8835\n",
      "Epoch 153/500\n",
      "236/236 [==============================] - 7s 30ms/step - loss: 0.0158 - accuracy: 0.9949 - val_loss: 0.4687 - val_accuracy: 0.8835\n",
      "Epoch 154/500\n",
      "236/236 [==============================] - 8s 32ms/step - loss: 0.0129 - accuracy: 0.9965 - val_loss: 0.4727 - val_accuracy: 0.8856\n",
      "Epoch 155/500\n",
      "236/236 [==============================] - 8s 32ms/step - loss: 0.0143 - accuracy: 0.9961 - val_loss: 0.4680 - val_accuracy: 0.8898\n",
      "Epoch 156/500\n",
      "236/236 [==============================] - 8s 35ms/step - loss: 0.0120 - accuracy: 0.9956 - val_loss: 0.4599 - val_accuracy: 0.8877\n",
      "Epoch 157/500\n",
      "236/236 [==============================] - 8s 34ms/step - loss: 0.0231 - accuracy: 0.9940 - val_loss: 0.4791 - val_accuracy: 0.8856\n",
      "Epoch 158/500\n",
      "236/236 [==============================] - 7s 32ms/step - loss: 0.0227 - accuracy: 0.9943 - val_loss: 0.4845 - val_accuracy: 0.8835\n",
      "Epoch 159/500\n",
      "236/236 [==============================] - 8s 32ms/step - loss: 0.0140 - accuracy: 0.9960 - val_loss: 0.4861 - val_accuracy: 0.8835\n",
      "Epoch 160/500\n",
      "236/236 [==============================] - 7s 31ms/step - loss: 0.0320 - accuracy: 0.9888 - val_loss: 0.4848 - val_accuracy: 0.8856\n",
      "Epoch 161/500\n",
      "236/236 [==============================] - 7s 31ms/step - loss: 0.0178 - accuracy: 0.9936 - val_loss: 0.4774 - val_accuracy: 0.8814\n",
      "Epoch 162/500\n",
      "236/236 [==============================] - 8s 33ms/step - loss: 0.0184 - accuracy: 0.9940 - val_loss: 0.4827 - val_accuracy: 0.8835\n",
      "Epoch 163/500\n",
      "236/236 [==============================] - 8s 34ms/step - loss: 0.0145 - accuracy: 0.9953 - val_loss: 0.4926 - val_accuracy: 0.8792\n",
      "Epoch 164/500\n",
      "236/236 [==============================] - 8s 32ms/step - loss: 0.0127 - accuracy: 0.9967 - val_loss: 0.4883 - val_accuracy: 0.8792\n",
      "Epoch 165/500\n",
      "236/236 [==============================] - 8s 33ms/step - loss: 0.0097 - accuracy: 0.9971 - val_loss: 0.4841 - val_accuracy: 0.8835\n",
      "Epoch 166/500\n",
      "236/236 [==============================] - 7s 31ms/step - loss: 0.0101 - accuracy: 0.9968 - val_loss: 0.4725 - val_accuracy: 0.8814\n",
      "Epoch 167/500\n",
      "236/236 [==============================] - 7s 29ms/step - loss: 0.0134 - accuracy: 0.9973 - val_loss: 0.5062 - val_accuracy: 0.8835\n",
      "Epoch 168/500\n",
      "236/236 [==============================] - 8s 32ms/step - loss: 0.0111 - accuracy: 0.9971 - val_loss: 0.4793 - val_accuracy: 0.8814\n",
      "Epoch 169/500\n",
      "236/236 [==============================] - 9s 36ms/step - loss: 0.0130 - accuracy: 0.9952 - val_loss: 0.4755 - val_accuracy: 0.8835\n",
      "Epoch 170/500\n",
      "236/236 [==============================] - 7s 30ms/step - loss: 0.0135 - accuracy: 0.9946 - val_loss: 0.4972 - val_accuracy: 0.8835\n",
      "Epoch 171/500\n",
      "236/236 [==============================] - 7s 30ms/step - loss: 0.0136 - accuracy: 0.9962 - val_loss: 0.4831 - val_accuracy: 0.8814\n",
      "Epoch 172/500\n",
      "236/236 [==============================] - 7s 30ms/step - loss: 0.0084 - accuracy: 0.9976 - val_loss: 0.4735 - val_accuracy: 0.8814\n",
      "Epoch 173/500\n",
      "236/236 [==============================] - 7s 29ms/step - loss: 0.0109 - accuracy: 0.9961 - val_loss: 0.4830 - val_accuracy: 0.8771\n",
      "Epoch 174/500\n",
      "236/236 [==============================] - 7s 28ms/step - loss: 0.0142 - accuracy: 0.9961 - val_loss: 0.4920 - val_accuracy: 0.8835\n",
      "Epoch 175/500\n",
      "236/236 [==============================] - 7s 28ms/step - loss: 0.0114 - accuracy: 0.9948 - val_loss: 0.4865 - val_accuracy: 0.8814\n",
      "Epoch 176/500\n",
      "236/236 [==============================] - 7s 31ms/step - loss: 0.0098 - accuracy: 0.9976 - val_loss: 0.4961 - val_accuracy: 0.8814\n",
      "Epoch 177/500\n",
      "236/236 [==============================] - 8s 32ms/step - loss: 0.0072 - accuracy: 0.9983 - val_loss: 0.5107 - val_accuracy: 0.8792\n",
      "Epoch 178/500\n",
      "236/236 [==============================] - 8s 34ms/step - loss: 0.0063 - accuracy: 0.9990 - val_loss: 0.4937 - val_accuracy: 0.8792\n",
      "Epoch 179/500\n",
      "236/236 [==============================] - 8s 35ms/step - loss: 0.0106 - accuracy: 0.9973 - val_loss: 0.4814 - val_accuracy: 0.8750\n",
      "Epoch 180/500\n",
      "236/236 [==============================] - 7s 31ms/step - loss: 0.0129 - accuracy: 0.9953 - val_loss: 0.4781 - val_accuracy: 0.8750\n",
      "Epoch 181/500\n",
      "236/236 [==============================] - 7s 29ms/step - loss: 0.0112 - accuracy: 0.9975 - val_loss: 0.4631 - val_accuracy: 0.8835loss: 0.0112 - accuracy: 0.99\n",
      "Epoch 182/500\n",
      "236/236 [==============================] - 7s 29ms/step - loss: 0.0113 - accuracy: 0.9969 - val_loss: 0.4833 - val_accuracy: 0.8856\n",
      "Epoch 183/500\n",
      "236/236 [==============================] - 7s 29ms/step - loss: 0.0119 - accuracy: 0.9972 - val_loss: 0.4814 - val_accuracy: 0.8898\n",
      "Epoch 184/500\n",
      "236/236 [==============================] - 7s 29ms/step - loss: 0.0102 - accuracy: 0.9981 - val_loss: 0.4844 - val_accuracy: 0.8877\n",
      "Epoch 185/500\n",
      "236/236 [==============================] - 7s 31ms/step - loss: 0.0087 - accuracy: 0.9971 - val_loss: 0.5100 - val_accuracy: 0.8835\n",
      "Epoch 186/500\n",
      "236/236 [==============================] - 7s 30ms/step - loss: 0.0108 - accuracy: 0.9963 - val_loss: 0.4897 - val_accuracy: 0.8919\n",
      "Epoch 187/500\n",
      "236/236 [==============================] - 7s 29ms/step - loss: 0.0150 - accuracy: 0.9966 - val_loss: 0.4758 - val_accuracy: 0.8898\n",
      "Epoch 188/500\n",
      "236/236 [==============================] - 7s 29ms/step - loss: 0.0103 - accuracy: 0.9972 - val_loss: 0.4830 - val_accuracy: 0.8835\n",
      "Epoch 189/500\n",
      "236/236 [==============================] - 8s 34ms/step - loss: 0.0186 - accuracy: 0.9938 - val_loss: 0.4790 - val_accuracy: 0.8835\n",
      "Epoch 190/500\n",
      "236/236 [==============================] - 7s 29ms/step - loss: 0.0119 - accuracy: 0.9963 - val_loss: 0.4733 - val_accuracy: 0.8856\n",
      "Epoch 191/500\n",
      "236/236 [==============================] - 7s 29ms/step - loss: 0.0117 - accuracy: 0.9960 - val_loss: 0.4727 - val_accuracy: 0.8856\n",
      "Epoch 192/500\n",
      "236/236 [==============================] - 7s 29ms/step - loss: 0.0138 - accuracy: 0.9958 - val_loss: 0.4875 - val_accuracy: 0.8835\n",
      "Epoch 193/500\n",
      "236/236 [==============================] - 7s 29ms/step - loss: 0.0138 - accuracy: 0.9958 - val_loss: 0.5005 - val_accuracy: 0.8814\n",
      "Epoch 194/500\n",
      "236/236 [==============================] - 7s 28ms/step - loss: 0.0101 - accuracy: 0.9966 - val_loss: 0.4788 - val_accuracy: 0.8856\n",
      "Epoch 195/500\n",
      "236/236 [==============================] - 7s 28ms/step - loss: 0.0121 - accuracy: 0.9956 - val_loss: 0.4772 - val_accuracy: 0.8877\n",
      "Epoch 196/500\n",
      "236/236 [==============================] - 7s 29ms/step - loss: 0.0107 - accuracy: 0.9974 - val_loss: 0.4805 - val_accuracy: 0.8919\n",
      "Epoch 197/500\n",
      "236/236 [==============================] - 7s 32ms/step - loss: 0.0077 - accuracy: 0.9979 - val_loss: 0.4764 - val_accuracy: 0.8919\n",
      "Epoch 198/500\n",
      "236/236 [==============================] - 8s 35ms/step - loss: 0.0154 - accuracy: 0.9945 - val_loss: 0.4705 - val_accuracy: 0.8919\n",
      "Epoch 199/500\n",
      "236/236 [==============================] - 9s 37ms/step - loss: 0.0215 - accuracy: 0.9962 - val_loss: 0.4645 - val_accuracy: 0.8898\n",
      "Epoch 200/500\n",
      "236/236 [==============================] - 9s 36ms/step - loss: 0.0130 - accuracy: 0.9952 - val_loss: 0.4603 - val_accuracy: 0.8898\n",
      "Epoch 201/500\n",
      "236/236 [==============================] - 8s 33ms/step - loss: 0.0130 - accuracy: 0.9947 - val_loss: 0.4682 - val_accuracy: 0.8877\n",
      "Epoch 00201: early stopping\n"
     ]
    },
    {
     "data": {
      "text/plain": [
       "<tensorflow.python.keras.callbacks.History at 0x18f57947610>"
      ]
     },
     "execution_count": 86,
     "metadata": {},
     "output_type": "execute_result"
    }
   ],
   "source": [
    "model3.compile(loss='sparse_categorical_crossentropy', optimizer='adam', metrics='accuracy')\n",
    "model3.fit(X_train, y_train, batch_size=16, epochs=500, validation_data=(X_val, y_val),\n",
    "           callbacks=[reduce_lr, early_stop, model_checkpoint2])"
   ]
  },
  {
   "cell_type": "code",
   "execution_count": 87,
   "metadata": {},
   "outputs": [],
   "source": [
    "# model3.load_weights(weight_path2)"
   ]
  },
  {
   "cell_type": "markdown",
   "metadata": {},
   "source": [
    "## Transfer learning"
   ]
  },
  {
   "cell_type": "code",
   "execution_count": 269,
   "metadata": {},
   "outputs": [],
   "source": [
    "# pretrained_model = tf.keras.applications.DenseNet201(include_top=False, \n",
    "#                                                      weights='imagenet', \n",
    "#                                                      input_shape=(236,40,3))\n",
    "# # pretrained_model.trainable = False\n",
    "# for layer in pretrained_model.layers:\n",
    "#   if 'conv5' in layer.name:\n",
    "#     layer.trainable = True\n",
    "#   else:\n",
    "#     layer.trainable = False\n",
    "\n",
    "# pretrained_model.input_shape, pretrained_model.output_shape"
   ]
  },
  {
   "cell_type": "code",
   "execution_count": 270,
   "metadata": {},
   "outputs": [],
   "source": [
    "# X_train.shape"
   ]
  },
  {
   "cell_type": "code",
   "execution_count": 271,
   "metadata": {},
   "outputs": [],
   "source": [
    "# X_train_expand = np.expand_dims(X_train, 3)\n",
    "# X_test_expand = np.expand_dims(X_test, 3)"
   ]
  },
  {
   "cell_type": "code",
   "execution_count": 28,
   "metadata": {},
   "outputs": [],
   "source": [
    "# X_train_expand.shape, X_test_expand.shape"
   ]
  },
  {
   "cell_type": "code",
   "execution_count": 27,
   "metadata": {},
   "outputs": [],
   "source": [
    "# before_model = Sequential()\n",
    "\n",
    "# before_model.add(layers.Conv1D(256, 5,padding='same',\n",
    "#                  input_shape=(236,40,1)))\n",
    "# before_model.add(layers.Activation('relu'))\n",
    "# before_model.add(layers.Dropout(0.2))\n",
    "# # before_model.add(layers.UpSampling2D(size=2))\n",
    "# before_model.add(layers.Dense(64))\n",
    "# before_model.add(layers.Dense(3))\n",
    "\n",
    "# before_model.summary()"
   ]
  },
  {
   "cell_type": "code",
   "execution_count": 26,
   "metadata": {},
   "outputs": [],
   "source": [
    "# after_model = tf.keras.models.Sequential()\n",
    "# after_model.add(before_model)\n",
    "# after_model.add(pretrained_model)\n",
    "# after_model.add(tf.keras.layers.GlobalAveragePooling2D())\n",
    "# after_model.add(tf.keras.layers.Flatten())\n",
    "\n",
    "# after_model.add(tf.keras.layers.Dense(256))\n",
    "# after_model.add(tf.keras.layers.Dropout(0.2))\n",
    "\n",
    "# after_model.add(tf.keras.layers.Dense(128))\n",
    "# after_model.add(tf.keras.layers.Dropout(0.1))\n",
    "# after_model.add(tf.keras.layers.Dense(6, activation='softmax'))\n",
    "\n",
    "# after_model.summary()"
   ]
  },
  {
   "cell_type": "code",
   "execution_count": 25,
   "metadata": {},
   "outputs": [],
   "source": [
    "# after_model.compile(loss='sparse_categorical_crossentropy', optimizer='adam', metrics='accuracy')\n",
    "# after_model.fit(X_train_expand, y_train, batch_size=32, epochs=500, validation_data=(X_test_expand, y_test),\n",
    "#            callbacks=[reduce_lr, early_stop, model_checkpoint2])"
   ]
  },
  {
   "cell_type": "markdown",
   "metadata": {},
   "source": [
    "### Final evaluation:"
   ]
  },
  {
   "cell_type": "code",
   "execution_count": 152,
   "metadata": {},
   "outputs": [],
   "source": [
    "def report_res_and_plot_matrix(y_test, y_pred, plot_classes):\n",
    "\n",
    "  #report metrics\n",
    "  acc = accuracy_score(y_test, y_pred)\n",
    "  print(f\"Accuracy: {acc:.4f}\")\n",
    "  # print(f\"Classes: {plot_classes}\")\n",
    "\n",
    "  #plot matrix\n",
    "  cnf_matrix = confusion_matrix(y_test, y_pred)\n",
    "  fig, ax = plt.subplots()\n",
    "    \n",
    "  tick_marks = np.arange(len(plot_classes))\n",
    "  plt.xticks(ticks=tick_marks, labels=plot_classes, rotation=90)\n",
    "  plt.yticks(ticks=tick_marks, labels=plot_classes, rotation=90)\n",
    "\n",
    "  group_counts = [f'{value:0.0f}' for value in cnf_matrix.flatten()]\n",
    "  group_percentages = [f'{100 * value:0.1f} %' for value in \n",
    "                       cnf_matrix.flatten()/np.sum(cnf_matrix)]\n",
    "  labels = [f'{v1}\\n({v2})' for v1, v2 in\n",
    "            zip(group_counts,group_percentages)]\n",
    "  n = int(np.sqrt(len(labels)))\n",
    "  labels = np.asarray(labels).reshape(n,n)\n",
    "  sns.heatmap(cnf_matrix, annot=labels, fmt='', cmap='Blues',\n",
    "              xticklabels=plot_classes, yticklabels=plot_classes)\n",
    "\n",
    "\n",
    "  ax.xaxis.set_label_position(\"bottom\")\n",
    "  plt.tight_layout()\n",
    "  plt.title('Confusion matrix', y=1.1)\n",
    "  plt.ylabel('Actual label')\n",
    "  plt.xlabel('Predicted label')\n",
    "  plt.show()\n",
    "\n",
    "  # return metrics\n",
    "  return [acc, cnf_matrix]"
   ]
  },
  {
   "cell_type": "code",
   "execution_count": 180,
   "metadata": {},
   "outputs": [
    {
     "name": "stdout",
     "output_type": "stream",
     "text": [
      "              precision    recall  f1-score   support\n",
      "\n",
      "        fear       0.83      0.83      0.83        75\n",
      "     disgust       0.85      0.89      0.87        57\n",
      "     neutral       0.82      0.91      0.86        76\n",
      "       happy       0.78      0.88      0.83        60\n",
      "     sadness       0.84      0.79      0.82        67\n",
      "    surprise       0.94      0.84      0.89        69\n",
      "       angry       0.92      0.81      0.86        68\n",
      "\n",
      "    accuracy                           0.85       472\n",
      "   macro avg       0.85      0.85      0.85       472\n",
      "weighted avg       0.85      0.85      0.85       472\n",
      "\n",
      "Accuracy: 0.8496\n"
     ]
    },
    {
     "data": {
      "image/png": "[encoded data removed]",
      "text/plain": [
       "<Figure size 432x288 with 2 Axes>"
      ]
     },
     "metadata": {},
     "output_type": "display_data"
    }
   ],
   "source": [
    "from sklearn.metrics import classification_report\n",
    "\n",
    "y_pred = model3.predict(X_test).argmax(axis=1)\n",
    "\n",
    "print(classification_report(y_test, y_pred, target_names=list(emotion_enc.keys())))\n",
    "params = report_res_and_plot_matrix(y_test, y_pred, list(emotion_enc.keys()))"
   ]
  },
  {
   "cell_type": "markdown",
   "metadata": {},
   "source": [
    "### Visualization of our classes"
   ]
  },
  {
   "cell_type": "code",
   "execution_count": 155,
   "metadata": {},
   "outputs": [
    {
     "data": {
      "text/plain": [
       "((472, 236, 40), (3773, 236, 40), (472,))"
      ]
     },
     "execution_count": 155,
     "metadata": {},
     "output_type": "execute_result"
    }
   ],
   "source": [
    "X_test.shape, X_train.shape, y_pred.shape"
   ]
  },
  {
   "cell_type": "code",
   "execution_count": 156,
   "metadata": {},
   "outputs": [],
   "source": [
    "X_test_new = X_test.reshape(472,-1).copy()\n",
    "X_train_new = X_train.reshape(3773,-1).copy()"
   ]
  },
  {
   "cell_type": "code",
   "execution_count": 157,
   "metadata": {},
   "outputs": [
    {
     "data": {
      "text/plain": [
       "((472, 9440), (3773, 9440))"
      ]
     },
     "execution_count": 157,
     "metadata": {},
     "output_type": "execute_result"
    }
   ],
   "source": [
    "X_test_new.shape, X_train_new.shape"
   ]
  },
  {
   "cell_type": "code",
   "execution_count": 158,
   "metadata": {},
   "outputs": [],
   "source": [
    "from sklearn.preprocessing import StandardScaler, MinMaxScaler\n",
    "\n",
    "scaler = StandardScaler()\n",
    "scaler.fit(X_train_new)\n",
    "X_train_scaled = scaler.transform(X_train_new)\n",
    "X_test_scaled = scaler.transform(X_test_new)\n"
   ]
  },
  {
   "cell_type": "code",
   "execution_count": 159,
   "metadata": {},
   "outputs": [],
   "source": [
    "from sklearn.decomposition import PCA\n",
    "\n",
    "pca = PCA(n_components=2)\n",
    "pca.fit_transform(X_train_scaled)\n",
    "X_pca = pca.transform(X_test_scaled)\n"
   ]
  },
  {
   "cell_type": "code",
   "execution_count": 160,
   "metadata": {},
   "outputs": [],
   "source": [
    "from sklearn.cluster import KMeans\n",
    "\n",
    "kmeans = KMeans(n_clusters=7, random_state=0).fit(X_pca)\n",
    "labels = kmeans.labels_"
   ]
  },
  {
   "cell_type": "code",
   "execution_count": 161,
   "metadata": {},
   "outputs": [
    {
     "data": {
      "text/plain": [
       "{0, 1, 2, 3, 4, 5, 6}"
      ]
     },
     "execution_count": 161,
     "metadata": {},
     "output_type": "execute_result"
    }
   ],
   "source": [
    "set(labels)"
   ]
  },
  {
   "cell_type": "markdown",
   "metadata": {},
   "source": [
    "### Figuring out which label resambles which class:"
   ]
  },
  {
   "cell_type": "code",
   "execution_count": 162,
   "metadata": {},
   "outputs": [
    {
     "data": {
      "text/plain": [
       "{0, 1, 2, 3, 4, 5, 6}"
      ]
     },
     "execution_count": 162,
     "metadata": {},
     "output_type": "execute_result"
    }
   ],
   "source": [
    "set(y_pred)"
   ]
  },
  {
   "cell_type": "code",
   "execution_count": 163,
   "metadata": {},
   "outputs": [
    {
     "data": {
      "text/plain": [
       "((472, 7), (472, 7))"
      ]
     },
     "execution_count": 163,
     "metadata": {},
     "output_type": "execute_result"
    }
   ],
   "source": [
    "l = pd.get_dummies(labels)\n",
    "p = pd.get_dummies(y_pred)\n",
    "\n",
    "l.shape, p.shape"
   ]
  },
  {
   "cell_type": "code",
   "execution_count": 164,
   "metadata": {},
   "outputs": [],
   "source": [
    "h = pd.merge(l, p, left_index=True, right_index=True)"
   ]
  },
  {
   "cell_type": "code",
   "execution_count": 165,
   "metadata": {},
   "outputs": [
    {
     "data": {
      "image/png": "[encoded data removed]",
      "text/plain": [
       "<Figure size 1800x720 with 2 Axes>"
      ]
     },
     "metadata": {},
     "output_type": "display_data"
    }
   ],
   "source": [
    "corr = h.corr(method='spearman')\n",
    "mask = np.tril(np.ones_like(corr, dtype=np.bool))\n",
    "ax = plt.figure(figsize=(25,10))\n",
    "ax = sns.heatmap(h.corr(method='spearman'), annot=True, fmt=\".2f\", mask = mask, square = True, cmap=\"Blues\")"
   ]
  },
  {
   "cell_type": "code",
   "execution_count": 166,
   "metadata": {},
   "outputs": [],
   "source": [
    "a = pd.DataFrame(labels)\n",
    "b= pd.DataFrame(y_pred)\n",
    "c= pd.DataFrame()\n",
    "c['labels'] = a[0].copy()\n",
    "c['preds'] = b[0].copy()"
   ]
  },
  {
   "cell_type": "code",
   "execution_count": 167,
   "metadata": {},
   "outputs": [
    {
     "data": {
      "text/html": [
       "<div>\n",
       "<style scoped>\n",
       "    .dataframe tbody tr th:only-of-type {\n",
       "        vertical-align: middle;\n",
       "    }\n",
       "\n",
       "    .dataframe tbody tr th {\n",
       "        vertical-align: top;\n",
       "    }\n",
       "\n",
       "    .dataframe thead th {\n",
       "        text-align: right;\n",
       "    }\n",
       "</style>\n",
       "<table border=\"1\" class=\"dataframe\">\n",
       "  <thead>\n",
       "    <tr style=\"text-align: right;\">\n",
       "      <th></th>\n",
       "      <th>labels</th>\n",
       "      <th>preds</th>\n",
       "    </tr>\n",
       "  </thead>\n",
       "  <tbody>\n",
       "    <tr>\n",
       "      <th>0</th>\n",
       "      <td>4</td>\n",
       "      <td>2</td>\n",
       "    </tr>\n",
       "    <tr>\n",
       "      <th>1</th>\n",
       "      <td>1</td>\n",
       "      <td>2</td>\n",
       "    </tr>\n",
       "    <tr>\n",
       "      <th>2</th>\n",
       "      <td>3</td>\n",
       "      <td>3</td>\n",
       "    </tr>\n",
       "    <tr>\n",
       "      <th>3</th>\n",
       "      <td>4</td>\n",
       "      <td>0</td>\n",
       "    </tr>\n",
       "    <tr>\n",
       "      <th>4</th>\n",
       "      <td>3</td>\n",
       "      <td>6</td>\n",
       "    </tr>\n",
       "  </tbody>\n",
       "</table>\n",
       "</div>"
      ],
      "text/plain": [
       "   labels  preds\n",
       "0       4      2\n",
       "1       1      2\n",
       "2       3      3\n",
       "3       4      0\n",
       "4       3      6"
      ]
     },
     "execution_count": 167,
     "metadata": {},
     "output_type": "execute_result"
    }
   ],
   "source": [
    "c.head()"
   ]
  },
  {
   "cell_type": "code",
   "execution_count": 168,
   "metadata": {
    "scrolled": true
   },
   "outputs": [
    {
     "data": {
      "image/png": "[encoded data removed]",
      "text/plain": [
       "<Figure size 720x288 with 1 Axes>"
      ]
     },
     "metadata": {},
     "output_type": "display_data"
    }
   ],
   "source": [
    "plt.figure(figsize=(10,4))\n",
    "sns.countplot(x='labels', hue=\"preds\", data=c)\n",
    "plt.xlabel('Labels', fontsize=14)\n",
    "plt.ylabel('Count', fontsize=14)\n",
    "plt.legend(title='Classes', bbox_to_anchor = (1,1), labels=list(emotion_enc.keys()), fontsize='large')\n",
    "plt.show()"
   ]
  },
  {
   "cell_type": "markdown",
   "metadata": {},
   "source": [
    "### Corresponding classes:\n",
    "\n",
    "- label 0 - class 5\n",
    "- label 1 - class 2\n",
    "- label 2 - class 1\n",
    "- label 3 - class 3\n",
    "- label 4 - class 6\n",
    "- label 5 - class 0\n",
    "- label 6 - class 4\n"
   ]
  },
  {
   "cell_type": "code",
   "execution_count": 169,
   "metadata": {},
   "outputs": [
    {
     "data": {
      "text/plain": [
       "{'fear': 0,\n",
       " 'disgust': 1,\n",
       " 'neutral': 2,\n",
       " 'happy': 3,\n",
       " 'sadness': 4,\n",
       " 'surprise': 5,\n",
       " 'angry': 6}"
      ]
     },
     "execution_count": 169,
     "metadata": {},
     "output_type": "execute_result"
    }
   ],
   "source": [
    "emotion_enc"
   ]
  },
  {
   "cell_type": "code",
   "execution_count": 177,
   "metadata": {},
   "outputs": [
    {
     "data": {
      "image/png": "[encoded data removed]",
      "text/plain": [
       "<Figure size 1080x360 with 1 Axes>"
      ]
     },
     "metadata": {},
     "output_type": "display_data"
    }
   ],
   "source": [
    "colors = {0:'blue', 1:'red', 2:'green', 3:'orange', 4:'black', 5:'grey', 6:'brown'}\n",
    "lab = ['surprise', 'neutral', 'disgust', 'happy', 'angry', 'fear', 'sadness']\n",
    "\n",
    "\n",
    "fig = plt.figure(figsize = (15, 5))\n",
    "ax = fig.add_subplot(111)\n",
    "ax.scatter(X_pca[:, 0], X_pca[:, 1], c = pd.Series(labels).map(colors), alpha=0.5)\n",
    "for i in range(7):\n",
    "    plt.scatter(None, None, color=colors[i], label=lab[i])\n",
    "\n",
    "plt.title('Emotions divided to clusters', fontsize=20)\n",
    "plt.legend(fontsize=15, bbox_to_anchor= [1, 1.05])\n",
    "plt.xlabel('PCA 1', fontsize=15)\n",
    "plt.ylabel('PCA 2', fontsize=15)\n",
    "plt.show()"
   ]
  },
  {
   "cell_type": "markdown",
   "metadata": {},
   "source": [
    "### Save models:"
   ]
  },
  {
   "cell_type": "code",
   "execution_count": 179,
   "metadata": {},
   "outputs": [],
   "source": [
    "import tensorflow as tf\n",
    "\n",
    "# model2.save('d://ITC//final_project_data//model2.h5')\n",
    "model3.save('D://emotion_recognition_data//model3.h5')\n",
    "\n",
    "model3 = tf.keras.models.load_model('D://emotion_recognition_data//model3.h5')"
   ]
  },
  {
   "cell_type": "code",
   "execution_count": 174,
   "metadata": {},
   "outputs": [
    {
     "data": {
      "text/plain": [
       "{'fear': 0,\n",
       " 'disgust': 1,\n",
       " 'neutral': 2,\n",
       " 'happy': 3,\n",
       " 'sadness': 4,\n",
       " 'surprise': 5,\n",
       " 'angry': 6}"
      ]
     },
     "execution_count": 174,
     "metadata": {},
     "output_type": "execute_result"
    }
   ],
   "source": [
    "emotion_enc"
   ]
  },
  {
   "cell_type": "markdown",
   "metadata": {},
   "source": [
    "#### Check random samples from dataset"
   ]
  },
  {
   "cell_type": "code",
   "execution_count": 264,
   "metadata": {},
   "outputs": [],
   "source": [
    "x,sr = librosa.load('D://emotion_recognition_data//data//data//Actor_01//03-01-04-02-02-01-01.wav',\n",
    "             res_type='kaiser_fast', sr=44000)"
   ]
  },
  {
   "cell_type": "code",
   "execution_count": 265,
   "metadata": {},
   "outputs": [
    {
     "data": {
      "text/plain": [
       "((164432,), 120378)"
      ]
     },
     "execution_count": 265,
     "metadata": {},
     "output_type": "execute_result"
    }
   ],
   "source": [
    "x.shape, length_chosen"
   ]
  },
  {
   "cell_type": "code",
   "execution_count": 266,
   "metadata": {},
   "outputs": [],
   "source": [
    "if x.shape[0] > length_chosen:\n",
    "        new = x[:length_chosen]\n",
    "elif x.shape[0] < length_chosen:\n",
    "        new = np.pad(x,math.ceil((length_chosen-x.shape[0])/2), mode='median')\n",
    "else:\n",
    "        new = x\n",
    "\n"
   ]
  },
  {
   "cell_type": "code",
   "execution_count": 267,
   "metadata": {},
   "outputs": [
    {
     "data": {
      "text/plain": [
       "(236, 40)"
      ]
     },
     "execution_count": 267,
     "metadata": {},
     "output_type": "execute_result"
    }
   ],
   "source": [
    "mfcc = librosa.feature.mfcc(y=new, sr=44000, n_mfcc=40)\n",
    "mfcc = mfcc.T\n",
    "mfcc.shape"
   ]
  },
  {
   "cell_type": "code",
   "execution_count": 268,
   "metadata": {},
   "outputs": [],
   "source": [
    "mfcc = mfcc.reshape(1,236,40)\n",
    "mfcc.shape\n",
    "p = model3.predict(mfcc)"
   ]
  },
  {
   "cell_type": "code",
   "execution_count": 269,
   "metadata": {},
   "outputs": [
    {
     "data": {
      "text/plain": [
       "4"
      ]
     },
     "execution_count": 269,
     "metadata": {},
     "output_type": "execute_result"
    }
   ],
   "source": [
    "p.argmax()"
   ]
  },
  {
   "cell_type": "code",
   "execution_count": 270,
   "metadata": {},
   "outputs": [
    {
     "data": {
      "text/plain": [
       "{'fear': 0,\n",
       " 'disgust': 1,\n",
       " 'neutral': 2,\n",
       " 'happy': 3,\n",
       " 'sadness': 4,\n",
       " 'surprise': 5,\n",
       " 'angry': 6}"
      ]
     },
     "execution_count": 270,
     "metadata": {},
     "output_type": "execute_result"
    }
   ],
   "source": [
    "emotion_enc"
   ]
  },
  {
   "cell_type": "code",
   "execution_count": null,
   "metadata": {},
   "outputs": [],
   "source": []
  }
 ],
 "metadata": {
  "kernelspec": {
   "display_name": "Python 3",
   "language": "python",
   "name": "python3"
  },
  "language_info": {
   "codemirror_mode": {
    "name": "ipython",
    "version": 3
   },
   "file_extension": ".py",
   "mimetype": "text/x-python",
   "name": "python",
   "nbconvert_exporter": "python",
   "pygments_lexer": "ipython3",
   "version": "3.8.3"
  }
 },
 "nbformat": 4,
 "nbformat_minor": 4
}
